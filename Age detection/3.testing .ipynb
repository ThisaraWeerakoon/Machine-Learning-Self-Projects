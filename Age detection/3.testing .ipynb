{
 "cells": [
  {
   "cell_type": "code",
   "execution_count": 2,
   "id": "73783ff5",
   "metadata": {},
   "outputs": [],
   "source": [
    "#loading data and target\n",
    "import numpy as np\n",
    "data=np.load(\"data.npy\")\n",
    "target=np.load(\"target.npy\")"
   ]
  },
  {
   "cell_type": "code",
   "execution_count": 3,
   "id": "95df237b",
   "metadata": {},
   "outputs": [
    {
     "name": "stderr",
     "output_type": "stream",
     "text": [
      "Using TensorFlow backend.\n",
      "2022-06-26 20:39:35.037029: I tensorflow/core/platform/cpu_feature_guard.cc:145] This TensorFlow binary is optimized with Intel(R) MKL-DNN to use the following CPU instructions in performance critical operations:  SSE4.1 SSE4.2\n",
      "To enable them in non-MKL-DNN operations, rebuild TensorFlow with the appropriate compiler flags.\n",
      "2022-06-26 20:39:35.037515: I tensorflow/core/common_runtime/process_util.cc:115] Creating new thread pool with default inter op setting: 8. Tune using inter_op_parallelism_threads for best performance.\n"
     ]
    },
    {
     "name": "stdout",
     "output_type": "stream",
     "text": [
      "Model: \"sequential_1\"\n",
      "_________________________________________________________________\n",
      "Layer (type)                 Output Shape              Param #   \n",
      "=================================================================\n",
      "conv2d_1 (Conv2D)            (None, 48, 48, 256)       2560      \n",
      "_________________________________________________________________\n",
      "activation_1 (Activation)    (None, 48, 48, 256)       0         \n",
      "_________________________________________________________________\n",
      "max_pooling2d_1 (MaxPooling2 (None, 24, 24, 256)       0         \n",
      "_________________________________________________________________\n",
      "conv2d_2 (Conv2D)            (None, 22, 22, 128)       295040    \n",
      "_________________________________________________________________\n",
      "activation_2 (Activation)    (None, 22, 22, 128)       0         \n",
      "_________________________________________________________________\n",
      "max_pooling2d_2 (MaxPooling2 (None, 11, 11, 128)       0         \n",
      "_________________________________________________________________\n",
      "flatten_1 (Flatten)          (None, 15488)             0         \n",
      "_________________________________________________________________\n",
      "dropout_1 (Dropout)          (None, 15488)             0         \n",
      "_________________________________________________________________\n",
      "dense_1 (Dense)              (None, 1000)              15489000  \n",
      "_________________________________________________________________\n",
      "dropout_2 (Dropout)          (None, 1000)              0         \n",
      "_________________________________________________________________\n",
      "dense_2 (Dense)              (None, 128)               128128    \n",
      "_________________________________________________________________\n",
      "dense_3 (Dense)              (None, 117)               15093     \n",
      "=================================================================\n",
      "Total params: 15,929,821\n",
      "Trainable params: 15,929,821\n",
      "Non-trainable params: 0\n",
      "_________________________________________________________________\n"
     ]
    }
   ],
   "source": [
    "#our own model\n",
    "from keras.models import Sequential\n",
    "from keras.layers import Dense,Activation,Flatten,Conv2D,MaxPooling2D,Dropout\n",
    "\n",
    "model=Sequential()\n",
    "\n",
    "model.add(Conv2D(256,(3,3),input_shape=data.shape[1:]))\n",
    "model.add(Activation(\"relu\"))\n",
    "model.add(MaxPooling2D(pool_size=(2,2)))\n",
    "\n",
    "model.add(Conv2D(128,(3,3)))\n",
    "model.add(Activation(\"relu\"))\n",
    "model.add(MaxPooling2D(pool_size=(2,2)))\n",
    "\n",
    "model.add(Flatten())\n",
    "model.add(Dropout(0.5))\n",
    "model.add(Dense(1000,activation=\"relu\"))\n",
    "model.add(Dropout(0.5))\n",
    "model.add(Dense(128,activation=\"relu\"))\n",
    "model.add(Dense(target.shape[1],activation=\"softmax\"))\n",
    "\n",
    "model.compile(loss=\"categorical_crossentropy\",optimizer=\"adam\",metrics=[\"accuracy\"])\n",
    "\n",
    "model.summary()"
   ]
  },
  {
   "cell_type": "code",
   "execution_count": 4,
   "id": "5b2f350e",
   "metadata": {},
   "outputs": [],
   "source": [
    "#loading weights for our own model\n",
    "model.load_weights(\"/Users/kumara/Desktop/machine learning /deep learning projects/supervised/Age detecting flask app using CNN/face_project.h5\")"
   ]
  },
  {
   "cell_type": "code",
   "execution_count": 5,
   "id": "3feadfc4",
   "metadata": {},
   "outputs": [
    {
     "name": "stdout",
     "output_type": "stream",
     "text": [
      "30 32\n"
     ]
    }
   ],
   "source": [
    "#tesing from our own model\n",
    "import os\n",
    "import cv2\n",
    "import numpy as np\n",
    "\n",
    "test_path='/Users/kumara/Desktop/machine learning /deep learning projects/supervised/Age detecting flask app using CNN/testing'#images for tesing\n",
    "\n",
    "img_names=os.listdir(test_path)\n",
    "\n",
    "\n",
    "\n",
    "for img_name in img_names:\n",
    "    img=cv2.imread(os.path.join(test_path,img_name))\n",
    "    #h,w=img.shape[0:2]\n",
    "    h=200\n",
    "    w=200#for this imageset beccause every image is 200x200\n",
    "\n",
    "    #preprocessing (As done for the training images)\n",
    "    test_img=cv2.resize(img,(50,50))\n",
    "    test_img=cv2.cvtColor(test_img,cv2.COLOR_BGR2GRAY)\n",
    "    test_img=test_img/255\n",
    "    test_img=test_img.reshape(1,50,50,1)\n",
    "    \n",
    "    results=model.predict(test_img)\n",
    "    label=np.argmax(results,axis=1)[0]\n",
    "    acc=int(np.max(results,axis=1)[0]*100)\n",
    "    \n",
    "    print(label,acc)\n",
    "    \n",
    "    img[0:50,0:w]=[0,255,0]\n",
    "    cv2.putText(img,str(label),(20,40),cv2.FONT_HERSHEY_SIMPLEX,1.5,(255,255,255),2)\n",
    "    cv2.putText(img,str(acc)+'%',(120,40),cv2.FONT_HERSHEY_SIMPLEX,1.5,(255,255,255),2)\n",
    "    \n",
    "    cv2.imshow('LIVE',img)\n",
    "    k=cv2.waitKey(1000) \n",
    "    if(k==27):\n",
    "        break\n",
    "cv2.destroyAllWindows()"
   ]
  },
  {
   "cell_type": "code",
   "execution_count": 1,
   "id": "f9b5cb73",
   "metadata": {},
   "outputs": [
    {
     "name": "stderr",
     "output_type": "stream",
     "text": [
      "Using TensorFlow backend.\n",
      "2022-06-28 15:45:50.537434: I tensorflow/core/platform/cpu_feature_guard.cc:145] This TensorFlow binary is optimized with Intel(R) MKL-DNN to use the following CPU instructions in performance critical operations:  SSE4.1 SSE4.2\n",
      "To enable them in non-MKL-DNN operations, rebuild TensorFlow with the appropriate compiler flags.\n",
      "2022-06-28 15:45:50.538645: I tensorflow/core/common_runtime/process_util.cc:115] Creating new thread pool with default inter op setting: 8. Tune using inter_op_parallelism_threads for best performance.\n"
     ]
    }
   ],
   "source": [
    "#for transfer learning model\n",
    "from keras.models import load_model\n",
    "model=load_model(\"/Users/kumara/Desktop/machine learning /deep learning projects/supervised/Age detecting flask app using CNN/transfer learning model/vgg16_face.model\")\n"
   ]
  },
  {
   "cell_type": "code",
   "execution_count": 28,
   "id": "22d2b859",
   "metadata": {},
   "outputs": [
    {
     "name": "stdout",
     "output_type": "stream",
     "text": [
      "24\n"
     ]
    }
   ],
   "source": [
    "#testing from transfer learning model\n",
    "#tesing for one image\n",
    "import cv2,numpy as np\n",
    "img_size=224\n",
    "def model_predict(img_path,model):\n",
    "    img=cv2.imread(img_path)\n",
    "    \n",
    "    #gray=cv2.cvtColor(img,cv2.COLOR_BGR2GRAY)#need to tune\n",
    "    resized=cv2.resize(img,(img_size,img_size))\n",
    "    data=np.array(resized)/255.0\n",
    "    data=data.reshape(1,img_size,img_size,3)\n",
    "    target=model.predict(data)\n",
    "    label=np.argmax(target,axis=1)[0]\n",
    "    return label\n",
    "#/Users/kumara/Desktop/machine learning /deep learning projects/supervised/Age detecting flask app using CNN/\n",
    "file_path=\"36_0_0_20170116210422517.jpg.chip.jpg\"\n",
    "preds = model_predict(file_path, model)\n",
    "result=str(preds)\n",
    "print(result)"
   ]
  }
 ],
 "metadata": {
  "kernelspec": {
   "display_name": "Python 3 (ipykernel)",
   "language": "python",
   "name": "python3"
  },
  "language_info": {
   "codemirror_mode": {
    "name": "ipython",
    "version": 3
   },
   "file_extension": ".py",
   "mimetype": "text/x-python",
   "name": "python",
   "nbconvert_exporter": "python",
   "pygments_lexer": "ipython3",
   "version": "3.9.13"
  }
 },
 "nbformat": 4,
 "nbformat_minor": 5
}
