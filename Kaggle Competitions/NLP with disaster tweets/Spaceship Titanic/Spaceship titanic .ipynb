{
 "cells": [
  {
   "cell_type": "code",
   "execution_count": 1,
   "id": "b8452e4e",
   "metadata": {},
   "outputs": [],
   "source": [
    "import pandas as pd\n",
    "#Display all the columns of the dataset\n",
    "pd.set_option(\"display.max_columns\",None)\n",
    "import numpy as np\n",
    "import matplotlib.pyplot as plt\n",
    "%matplotlib inline\n",
    "import seaborn as sns\n"
   ]
  },
  {
   "cell_type": "code",
   "execution_count": 2,
   "id": "624b990c",
   "metadata": {},
   "outputs": [],
   "source": [
    "dataset=pd.read_csv(\"/Users/kumara/Desktop/machine learning /kaggle/spaceship titanic/spaceship-titanic/train.csv\")"
   ]
  },
  {
   "cell_type": "code",
   "execution_count": 3,
   "id": "7ef39f48",
   "metadata": {},
   "outputs": [
    {
     "name": "stdout",
     "output_type": "stream",
     "text": [
      "(8693, 14)\n"
     ]
    }
   ],
   "source": [
    "print(dataset.shape)"
   ]
  },
  {
   "cell_type": "code",
   "execution_count": 4,
   "id": "e2aebff2",
   "metadata": {},
   "outputs": [
    {
     "data": {
      "text/html": [
       "<div>\n",
       "<style scoped>\n",
       "    .dataframe tbody tr th:only-of-type {\n",
       "        vertical-align: middle;\n",
       "    }\n",
       "\n",
       "    .dataframe tbody tr th {\n",
       "        vertical-align: top;\n",
       "    }\n",
       "\n",
       "    .dataframe thead th {\n",
       "        text-align: right;\n",
       "    }\n",
       "</style>\n",
       "<table border=\"1\" class=\"dataframe\">\n",
       "  <thead>\n",
       "    <tr style=\"text-align: right;\">\n",
       "      <th></th>\n",
       "      <th>PassengerId</th>\n",
       "      <th>HomePlanet</th>\n",
       "      <th>CryoSleep</th>\n",
       "      <th>Cabin</th>\n",
       "      <th>Destination</th>\n",
       "      <th>Age</th>\n",
       "      <th>VIP</th>\n",
       "      <th>RoomService</th>\n",
       "      <th>FoodCourt</th>\n",
       "      <th>ShoppingMall</th>\n",
       "      <th>Spa</th>\n",
       "      <th>VRDeck</th>\n",
       "      <th>Name</th>\n",
       "      <th>Transported</th>\n",
       "    </tr>\n",
       "  </thead>\n",
       "  <tbody>\n",
       "    <tr>\n",
       "      <th>0</th>\n",
       "      <td>0001_01</td>\n",
       "      <td>Europa</td>\n",
       "      <td>False</td>\n",
       "      <td>B/0/P</td>\n",
       "      <td>TRAPPIST-1e</td>\n",
       "      <td>39.0</td>\n",
       "      <td>False</td>\n",
       "      <td>0.0</td>\n",
       "      <td>0.0</td>\n",
       "      <td>0.0</td>\n",
       "      <td>0.0</td>\n",
       "      <td>0.0</td>\n",
       "      <td>Maham Ofracculy</td>\n",
       "      <td>False</td>\n",
       "    </tr>\n",
       "    <tr>\n",
       "      <th>1</th>\n",
       "      <td>0002_01</td>\n",
       "      <td>Earth</td>\n",
       "      <td>False</td>\n",
       "      <td>F/0/S</td>\n",
       "      <td>TRAPPIST-1e</td>\n",
       "      <td>24.0</td>\n",
       "      <td>False</td>\n",
       "      <td>109.0</td>\n",
       "      <td>9.0</td>\n",
       "      <td>25.0</td>\n",
       "      <td>549.0</td>\n",
       "      <td>44.0</td>\n",
       "      <td>Juanna Vines</td>\n",
       "      <td>True</td>\n",
       "    </tr>\n",
       "    <tr>\n",
       "      <th>2</th>\n",
       "      <td>0003_01</td>\n",
       "      <td>Europa</td>\n",
       "      <td>False</td>\n",
       "      <td>A/0/S</td>\n",
       "      <td>TRAPPIST-1e</td>\n",
       "      <td>58.0</td>\n",
       "      <td>True</td>\n",
       "      <td>43.0</td>\n",
       "      <td>3576.0</td>\n",
       "      <td>0.0</td>\n",
       "      <td>6715.0</td>\n",
       "      <td>49.0</td>\n",
       "      <td>Altark Susent</td>\n",
       "      <td>False</td>\n",
       "    </tr>\n",
       "    <tr>\n",
       "      <th>3</th>\n",
       "      <td>0003_02</td>\n",
       "      <td>Europa</td>\n",
       "      <td>False</td>\n",
       "      <td>A/0/S</td>\n",
       "      <td>TRAPPIST-1e</td>\n",
       "      <td>33.0</td>\n",
       "      <td>False</td>\n",
       "      <td>0.0</td>\n",
       "      <td>1283.0</td>\n",
       "      <td>371.0</td>\n",
       "      <td>3329.0</td>\n",
       "      <td>193.0</td>\n",
       "      <td>Solam Susent</td>\n",
       "      <td>False</td>\n",
       "    </tr>\n",
       "    <tr>\n",
       "      <th>4</th>\n",
       "      <td>0004_01</td>\n",
       "      <td>Earth</td>\n",
       "      <td>False</td>\n",
       "      <td>F/1/S</td>\n",
       "      <td>TRAPPIST-1e</td>\n",
       "      <td>16.0</td>\n",
       "      <td>False</td>\n",
       "      <td>303.0</td>\n",
       "      <td>70.0</td>\n",
       "      <td>151.0</td>\n",
       "      <td>565.0</td>\n",
       "      <td>2.0</td>\n",
       "      <td>Willy Santantines</td>\n",
       "      <td>True</td>\n",
       "    </tr>\n",
       "  </tbody>\n",
       "</table>\n",
       "</div>"
      ],
      "text/plain": [
       "  PassengerId HomePlanet CryoSleep  Cabin  Destination   Age    VIP  \\\n",
       "0     0001_01     Europa     False  B/0/P  TRAPPIST-1e  39.0  False   \n",
       "1     0002_01      Earth     False  F/0/S  TRAPPIST-1e  24.0  False   \n",
       "2     0003_01     Europa     False  A/0/S  TRAPPIST-1e  58.0   True   \n",
       "3     0003_02     Europa     False  A/0/S  TRAPPIST-1e  33.0  False   \n",
       "4     0004_01      Earth     False  F/1/S  TRAPPIST-1e  16.0  False   \n",
       "\n",
       "   RoomService  FoodCourt  ShoppingMall     Spa  VRDeck               Name  \\\n",
       "0          0.0        0.0           0.0     0.0     0.0    Maham Ofracculy   \n",
       "1        109.0        9.0          25.0   549.0    44.0       Juanna Vines   \n",
       "2         43.0     3576.0           0.0  6715.0    49.0      Altark Susent   \n",
       "3          0.0     1283.0         371.0  3329.0   193.0       Solam Susent   \n",
       "4        303.0       70.0         151.0   565.0     2.0  Willy Santantines   \n",
       "\n",
       "   Transported  \n",
       "0        False  \n",
       "1         True  \n",
       "2        False  \n",
       "3        False  \n",
       "4         True  "
      ]
     },
     "execution_count": 4,
     "metadata": {},
     "output_type": "execute_result"
    }
   ],
   "source": [
    "dataset.head()"
   ]
  },
  {
   "cell_type": "markdown",
   "id": "93c43a9e",
   "metadata": {},
   "source": [
    "# EDA"
   ]
  },
  {
   "cell_type": "markdown",
   "id": "8d944fd5",
   "metadata": {},
   "source": [
    "## Missing Values"
   ]
  },
  {
   "cell_type": "code",
   "execution_count": 5,
   "id": "ad94fe1d",
   "metadata": {},
   "outputs": [
    {
     "name": "stdout",
     "output_type": "stream",
     "text": [
      "HomePlanet 0.0231 % missing values\n",
      "CryoSleep 0.025 % missing values\n",
      "Cabin 0.0229 % missing values\n",
      "Destination 0.0209 % missing values\n",
      "Age 0.0206 % missing values\n",
      "VIP 0.0234 % missing values\n",
      "RoomService 0.0208 % missing values\n",
      "FoodCourt 0.0211 % missing values\n",
      "ShoppingMall 0.0239 % missing values\n",
      "Spa 0.0211 % missing values\n",
      "VRDeck 0.0216 % missing values\n",
      "Name 0.023 % missing values\n"
     ]
    }
   ],
   "source": [
    "#Check the percentage of nan values in each column\n",
    "#To get the features which has missing values\n",
    "features_with_na=[feature for feature in dataset.columns if dataset[feature].isnull().sum()>1 ]\n",
    "\n",
    "#To get the percentage of nan values in each feature\n",
    "for feature in features_with_na:\n",
    "    print(feature,np.round(dataset[feature].isnull().mean(),4),\"% missing values\")"
   ]
  },
  {
   "cell_type": "code",
   "execution_count": 6,
   "id": "6f4d606a",
   "metadata": {},
   "outputs": [
    {
     "data": {
      "text/html": [
       "<div>\n",
       "<style scoped>\n",
       "    .dataframe tbody tr th:only-of-type {\n",
       "        vertical-align: middle;\n",
       "    }\n",
       "\n",
       "    .dataframe tbody tr th {\n",
       "        vertical-align: top;\n",
       "    }\n",
       "\n",
       "    .dataframe thead th {\n",
       "        text-align: right;\n",
       "    }\n",
       "</style>\n",
       "<table border=\"1\" class=\"dataframe\">\n",
       "  <thead>\n",
       "    <tr style=\"text-align: right;\">\n",
       "      <th></th>\n",
       "      <th>Age</th>\n",
       "      <th>Cabin</th>\n",
       "      <th>CryoSleep</th>\n",
       "      <th>Destination</th>\n",
       "      <th>FoodCourt</th>\n",
       "      <th>HomePlanet</th>\n",
       "      <th>Name</th>\n",
       "      <th>RoomService</th>\n",
       "      <th>ShoppingMall</th>\n",
       "      <th>Spa</th>\n",
       "      <th>VIP</th>\n",
       "      <th>VRDeck</th>\n",
       "    </tr>\n",
       "    <tr>\n",
       "      <th>Transported</th>\n",
       "      <th></th>\n",
       "      <th></th>\n",
       "      <th></th>\n",
       "      <th></th>\n",
       "      <th></th>\n",
       "      <th></th>\n",
       "      <th></th>\n",
       "      <th></th>\n",
       "      <th></th>\n",
       "      <th></th>\n",
       "      <th></th>\n",
       "      <th></th>\n",
       "    </tr>\n",
       "  </thead>\n",
       "  <tbody>\n",
       "    <tr>\n",
       "      <th>False</th>\n",
       "      <td>0.020626</td>\n",
       "      <td>0.022943</td>\n",
       "      <td>0.025724</td>\n",
       "      <td>0.020857</td>\n",
       "      <td>0.019467</td>\n",
       "      <td>0.022711</td>\n",
       "      <td>0.022943</td>\n",
       "      <td>0.022711</td>\n",
       "      <td>0.021784</td>\n",
       "      <td>0.021321</td>\n",
       "      <td>0.022943</td>\n",
       "      <td>0.020857</td>\n",
       "    </tr>\n",
       "    <tr>\n",
       "      <th>True</th>\n",
       "      <td>0.020557</td>\n",
       "      <td>0.022841</td>\n",
       "      <td>0.024212</td>\n",
       "      <td>0.021014</td>\n",
       "      <td>0.022613</td>\n",
       "      <td>0.023527</td>\n",
       "      <td>0.023070</td>\n",
       "      <td>0.018958</td>\n",
       "      <td>0.026039</td>\n",
       "      <td>0.020786</td>\n",
       "      <td>0.023755</td>\n",
       "      <td>0.022385</td>\n",
       "    </tr>\n",
       "  </tbody>\n",
       "</table>\n",
       "</div>"
      ],
      "text/plain": [
       "                  Age     Cabin  CryoSleep  Destination  FoodCourt  \\\n",
       "Transported                                                          \n",
       "False        0.020626  0.022943   0.025724     0.020857   0.019467   \n",
       "True         0.020557  0.022841   0.024212     0.021014   0.022613   \n",
       "\n",
       "             HomePlanet      Name  RoomService  ShoppingMall       Spa  \\\n",
       "Transported                                                              \n",
       "False          0.022711  0.022943     0.022711      0.021784  0.021321   \n",
       "True           0.023527  0.023070     0.018958      0.026039  0.020786   \n",
       "\n",
       "                  VIP    VRDeck  \n",
       "Transported                      \n",
       "False        0.022943  0.020857  \n",
       "True         0.023755  0.022385  "
      ]
     },
     "execution_count": 6,
     "metadata": {},
     "output_type": "execute_result"
    }
   ],
   "source": [
    "#relationship between missing vals and target(Transported)\n",
    "data=dataset.copy()\n",
    "for feature in features_with_na:\n",
    "    data[feature]=np.where(data[feature].isnull(),1,0)\n",
    "pd.pivot_table(data,index=\"Transported\",values=features_with_na)"
   ]
  },
  {
   "cell_type": "code",
   "execution_count": 7,
   "id": "31631f7e",
   "metadata": {},
   "outputs": [
    {
     "name": "stdout",
     "output_type": "stream",
     "text": [
      "Id of passengers 8693\n"
     ]
    }
   ],
   "source": [
    "print(\"Id of passengers {}\".format(len(dataset[\"PassengerId\"])))"
   ]
  },
  {
   "cell_type": "code",
   "execution_count": 8,
   "id": "43cd2d74",
   "metadata": {},
   "outputs": [
    {
     "data": {
      "text/plain": [
       "0       0001_01\n",
       "1       0002_01\n",
       "2       0003_01\n",
       "3       0003_02\n",
       "4       0004_01\n",
       "         ...   \n",
       "8688    9276_01\n",
       "8689    9278_01\n",
       "8690    9279_01\n",
       "8691    9280_01\n",
       "8692    9280_02\n",
       "Name: PassengerId, Length: 8693, dtype: object"
      ]
     },
     "execution_count": 8,
     "metadata": {},
     "output_type": "execute_result"
    }
   ],
   "source": [
    "dataset[\"PassengerId\"]"
   ]
  },
  {
   "cell_type": "markdown",
   "id": "d426c06c",
   "metadata": {},
   "source": [
    "## Numerical Features"
   ]
  },
  {
   "cell_type": "code",
   "execution_count": 9,
   "id": "18da53ae",
   "metadata": {},
   "outputs": [
    {
     "name": "stdout",
     "output_type": "stream",
     "text": [
      "No of numerical features 6\n"
     ]
    },
    {
     "data": {
      "text/html": [
       "<div>\n",
       "<style scoped>\n",
       "    .dataframe tbody tr th:only-of-type {\n",
       "        vertical-align: middle;\n",
       "    }\n",
       "\n",
       "    .dataframe tbody tr th {\n",
       "        vertical-align: top;\n",
       "    }\n",
       "\n",
       "    .dataframe thead th {\n",
       "        text-align: right;\n",
       "    }\n",
       "</style>\n",
       "<table border=\"1\" class=\"dataframe\">\n",
       "  <thead>\n",
       "    <tr style=\"text-align: right;\">\n",
       "      <th></th>\n",
       "      <th>Age</th>\n",
       "      <th>RoomService</th>\n",
       "      <th>FoodCourt</th>\n",
       "      <th>ShoppingMall</th>\n",
       "      <th>Spa</th>\n",
       "      <th>VRDeck</th>\n",
       "    </tr>\n",
       "  </thead>\n",
       "  <tbody>\n",
       "    <tr>\n",
       "      <th>0</th>\n",
       "      <td>39.0</td>\n",
       "      <td>0.0</td>\n",
       "      <td>0.0</td>\n",
       "      <td>0.0</td>\n",
       "      <td>0.0</td>\n",
       "      <td>0.0</td>\n",
       "    </tr>\n",
       "    <tr>\n",
       "      <th>1</th>\n",
       "      <td>24.0</td>\n",
       "      <td>109.0</td>\n",
       "      <td>9.0</td>\n",
       "      <td>25.0</td>\n",
       "      <td>549.0</td>\n",
       "      <td>44.0</td>\n",
       "    </tr>\n",
       "    <tr>\n",
       "      <th>2</th>\n",
       "      <td>58.0</td>\n",
       "      <td>43.0</td>\n",
       "      <td>3576.0</td>\n",
       "      <td>0.0</td>\n",
       "      <td>6715.0</td>\n",
       "      <td>49.0</td>\n",
       "    </tr>\n",
       "    <tr>\n",
       "      <th>3</th>\n",
       "      <td>33.0</td>\n",
       "      <td>0.0</td>\n",
       "      <td>1283.0</td>\n",
       "      <td>371.0</td>\n",
       "      <td>3329.0</td>\n",
       "      <td>193.0</td>\n",
       "    </tr>\n",
       "    <tr>\n",
       "      <th>4</th>\n",
       "      <td>16.0</td>\n",
       "      <td>303.0</td>\n",
       "      <td>70.0</td>\n",
       "      <td>151.0</td>\n",
       "      <td>565.0</td>\n",
       "      <td>2.0</td>\n",
       "    </tr>\n",
       "  </tbody>\n",
       "</table>\n",
       "</div>"
      ],
      "text/plain": [
       "    Age  RoomService  FoodCourt  ShoppingMall     Spa  VRDeck\n",
       "0  39.0          0.0        0.0           0.0     0.0     0.0\n",
       "1  24.0        109.0        9.0          25.0   549.0    44.0\n",
       "2  58.0         43.0     3576.0           0.0  6715.0    49.0\n",
       "3  33.0          0.0     1283.0         371.0  3329.0   193.0\n",
       "4  16.0        303.0       70.0         151.0   565.0     2.0"
      ]
     },
     "execution_count": 9,
     "metadata": {},
     "output_type": "execute_result"
    }
   ],
   "source": [
    "#numerical_features=[feature for feature in dataset.columns if dataset[feature].dtypes!=\"O\"]\n",
    "#quickway to get numerical features\n",
    "numerical_features=dataset.describe().columns\n",
    "print(\"No of numerical features\",len(numerical_features))\n",
    "\n",
    "dataset[numerical_features].head()\n",
    "    "
   ]
  },
  {
   "cell_type": "markdown",
   "id": "461cbcd5",
   "metadata": {},
   "source": [
    "## Type 1 Discrete Features "
   ]
  },
  {
   "cell_type": "code",
   "execution_count": 10,
   "id": "ac6c6189",
   "metadata": {},
   "outputs": [
    {
     "name": "stdout",
     "output_type": "stream",
     "text": [
      "Discrete feature count 0\n",
      "No discrete numerical features\n"
     ]
    }
   ],
   "source": [
    "\n",
    "discrete_features=[feature for feature in numerical_features if len(dataset[feature].unique())<25 and  feature != \"PassengerId\"]\n",
    "print(\"Discrete feature count\",len(discrete_features))\n",
    "#print(discrete_features)\n",
    "print(\"No discrete numerical features\")"
   ]
  },
  {
   "cell_type": "markdown",
   "id": "c252cde5",
   "metadata": {},
   "source": [
    "## Type 2 Continuous Features"
   ]
  },
  {
   "cell_type": "code",
   "execution_count": 11,
   "id": "063b9ffb",
   "metadata": {},
   "outputs": [
    {
     "name": "stdout",
     "output_type": "stream",
     "text": [
      "No of continuous features 6\n",
      "['Age', 'RoomService', 'FoodCourt', 'ShoppingMall', 'Spa', 'VRDeck']\n"
     ]
    }
   ],
   "source": [
    "continuous_features=[feature for feature in numerical_features if feature not in discrete_features+[\"PassengerId\"]]\n",
    "print(\"No of continuous features\",len(continuous_features))\n",
    "print(continuous_features)"
   ]
  },
  {
   "cell_type": "code",
   "execution_count": 12,
   "id": "6723fa3d",
   "metadata": {},
   "outputs": [
    {
     "data": {
      "image/png": "[encoded data removed]",
      "text/plain": [
       "<Figure size 432x288 with 1 Axes>"
      ]
     },
     "metadata": {
      "needs_background": "light"
     },
     "output_type": "display_data"
    },
    {
     "data": {
      "image/png": "[encoded data removed]",
      "text/plain": [
       "<Figure size 432x288 with 1 Axes>"
      ]
     },
     "metadata": {
      "needs_background": "light"
     },
     "output_type": "display_data"
    },
    {
     "data": {
      "image/png": "[encoded data removed]",
      "text/plain": [
       "<Figure size 432x288 with 1 Axes>"
      ]
     },
     "metadata": {
      "needs_background": "light"
     },
     "output_type": "display_data"
    },
    {
     "data": {
      "image/png": "[encoded data removed]",
      "text/plain": [
       "<Figure size 432x288 with 1 Axes>"
      ]
     },
     "metadata": {
      "needs_background": "light"
     },
     "output_type": "display_data"
    },
    {
     "data": {
      "image/png": "[encoded data removed]",
      "text/plain": [
       "<Figure size 432x288 with 1 Axes>"
      ]
     },
     "metadata": {
      "needs_background": "light"
     },
     "output_type": "display_data"
    },
    {
     "data": {
      "image/png": "[encoded data removed]",
      "text/plain": [
       "<Figure size 432x288 with 1 Axes>"
      ]
     },
     "metadata": {
      "needs_background": "light"
     },
     "output_type": "display_data"
    }
   ],
   "source": [
    "for feature in continuous_features:\n",
    "    data=dataset.copy()\n",
    "    data[feature].hist(bins=32)\n",
    "    plt.xlabel(feature)\n",
    "    plt.ylabel(\"Count\")\n",
    "    plt.title(feature)\n",
    "    plt.show()"
   ]
  },
  {
   "cell_type": "code",
   "execution_count": 13,
   "id": "86d14ce5",
   "metadata": {},
   "outputs": [
    {
     "data": {
      "image/png": "[encoded data removed]",
      "text/plain": [
       "<Figure size 432x288 with 1 Axes>"
      ]
     },
     "metadata": {
      "needs_background": "light"
     },
     "output_type": "display_data"
    },
    {
     "data": {
      "image/png": "[encoded data removed]",
      "text/plain": [
       "<Figure size 432x288 with 1 Axes>"
      ]
     },
     "metadata": {
      "needs_background": "light"
     },
     "output_type": "display_data"
    },
    {
     "data": {
      "image/png": "[encoded data removed]",
      "text/plain": [
       "<Figure size 432x288 with 1 Axes>"
      ]
     },
     "metadata": {
      "needs_background": "light"
     },
     "output_type": "display_data"
    },
    {
     "data": {
      "image/png": "[encoded data removed]",
      "text/plain": [
       "<Figure size 432x288 with 1 Axes>"
      ]
     },
     "metadata": {
      "needs_background": "light"
     },
     "output_type": "display_data"
    },
    {
     "data": {
      "image/png": "[encoded data removed]",
      "text/plain": [
       "<Figure size 432x288 with 1 Axes>"
      ]
     },
     "metadata": {
      "needs_background": "light"
     },
     "output_type": "display_data"
    },
    {
     "data": {
      "image/png": "[encoded data removed]",
      "text/plain": [
       "<Figure size 432x288 with 1 Axes>"
      ]
     },
     "metadata": {
      "needs_background": "light"
     },
     "output_type": "display_data"
    }
   ],
   "source": [
    "#above distributions are not normalized.Convert log vals to obtain more normalized distribution\n",
    "data=dataset.copy()\n",
    "for feature in data[continuous_features]:\n",
    "    data[feature]=np.log(data[feature]+1)\n",
    "    data[feature].hist(bins=32)\n",
    "    plt.xlabel(feature)\n",
    "    plt.ylabel(\"Count\")\n",
    "    plt.title(\"Normalized\"+feature)\n",
    "    plt.show()\n",
    "\n",
    "        "
   ]
  },
  {
   "cell_type": "code",
   "execution_count": null,
   "id": "20463aed",
   "metadata": {},
   "outputs": [],
   "source": []
  },
  {
   "cell_type": "code",
   "execution_count": 14,
   "id": "81dc131f",
   "metadata": {},
   "outputs": [
    {
     "name": "stdout",
     "output_type": "stream",
     "text": [
      "                   Age  RoomService  FoodCourt  ShoppingMall       Spa  \\\n",
      "Age           1.000000     0.068723   0.130421      0.033133  0.123970   \n",
      "RoomService   0.068723     1.000000  -0.015889      0.054480  0.010080   \n",
      "FoodCourt     0.130421    -0.015889   1.000000     -0.014228  0.221891   \n",
      "ShoppingMall  0.033133     0.054480  -0.014228      1.000000  0.013879   \n",
      "Spa           0.123970     0.010080   0.221891      0.013879  1.000000   \n",
      "VRDeck        0.101007    -0.019581   0.227995     -0.007322  0.153821   \n",
      "\n",
      "                VRDeck  \n",
      "Age           0.101007  \n",
      "RoomService  -0.019581  \n",
      "FoodCourt     0.227995  \n",
      "ShoppingMall -0.007322  \n",
      "Spa           0.153821  \n",
      "VRDeck        1.000000  \n"
     ]
    },
    {
     "data": {
      "text/plain": [
       "<AxesSubplot:>"
      ]
     },
     "execution_count": 14,
     "metadata": {},
     "output_type": "execute_result"
    },
    {
     "data": {
      "image/png": "[encoded data removed]",
      "text/plain": [
       "<Figure size 432x288 with 2 Axes>"
      ]
     },
     "metadata": {
      "needs_background": "light"
     },
     "output_type": "display_data"
    }
   ],
   "source": [
    "print(dataset[continuous_features].corr())\n",
    "sns.heatmap(dataset[continuous_features].corr())"
   ]
  },
  {
   "cell_type": "code",
   "execution_count": 15,
   "id": "3caa183d",
   "metadata": {},
   "outputs": [
    {
     "data": {
      "text/html": [
       "<div>\n",
       "<style scoped>\n",
       "    .dataframe tbody tr th:only-of-type {\n",
       "        vertical-align: middle;\n",
       "    }\n",
       "\n",
       "    .dataframe tbody tr th {\n",
       "        vertical-align: top;\n",
       "    }\n",
       "\n",
       "    .dataframe thead th {\n",
       "        text-align: right;\n",
       "    }\n",
       "</style>\n",
       "<table border=\"1\" class=\"dataframe\">\n",
       "  <thead>\n",
       "    <tr style=\"text-align: right;\">\n",
       "      <th></th>\n",
       "      <th>Age</th>\n",
       "      <th>FoodCourt</th>\n",
       "      <th>RoomService</th>\n",
       "      <th>ShoppingMall</th>\n",
       "      <th>Spa</th>\n",
       "      <th>VRDeck</th>\n",
       "    </tr>\n",
       "    <tr>\n",
       "      <th>Transported</th>\n",
       "      <th></th>\n",
       "      <th></th>\n",
       "      <th></th>\n",
       "      <th></th>\n",
       "      <th></th>\n",
       "      <th></th>\n",
       "    </tr>\n",
       "  </thead>\n",
       "  <tbody>\n",
       "    <tr>\n",
       "      <th>False</th>\n",
       "      <td>29.922858</td>\n",
       "      <td>382.615930</td>\n",
       "      <td>389.266066</td>\n",
       "      <td>167.566217</td>\n",
       "      <td>564.382666</td>\n",
       "      <td>543.629822</td>\n",
       "    </tr>\n",
       "    <tr>\n",
       "      <th>True</th>\n",
       "      <td>27.748834</td>\n",
       "      <td>532.691984</td>\n",
       "      <td>63.098021</td>\n",
       "      <td>179.829972</td>\n",
       "      <td>61.675531</td>\n",
       "      <td>69.148131</td>\n",
       "    </tr>\n",
       "  </tbody>\n",
       "</table>\n",
       "</div>"
      ],
      "text/plain": [
       "                   Age   FoodCourt  RoomService  ShoppingMall         Spa  \\\n",
       "Transported                                                                 \n",
       "False        29.922858  382.615930   389.266066    167.566217  564.382666   \n",
       "True         27.748834  532.691984    63.098021    179.829972   61.675531   \n",
       "\n",
       "                 VRDeck  \n",
       "Transported              \n",
       "False        543.629822  \n",
       "True          69.148131  "
      ]
     },
     "execution_count": 15,
     "metadata": {},
     "output_type": "execute_result"
    }
   ],
   "source": [
    "pd.pivot_table(dataset, index = 'Transported', values = continuous_features)"
   ]
  },
  {
   "cell_type": "code",
   "execution_count": 16,
   "id": "99a1c5aa",
   "metadata": {},
   "outputs": [
    {
     "data": {
      "image/png": "[encoded data removed]",
      "text/plain": [
       "<Figure size 432x288 with 1 Axes>"
      ]
     },
     "metadata": {
      "needs_background": "light"
     },
     "output_type": "display_data"
    },
    {
     "data": {
      "image/png": "[encoded data removed]",
      "text/plain": [
       "<Figure size 432x288 with 1 Axes>"
      ]
     },
     "metadata": {
      "needs_background": "light"
     },
     "output_type": "display_data"
    },
    {
     "data": {
      "image/png": "[encoded data removed]",
      "text/plain": [
       "<Figure size 432x288 with 1 Axes>"
      ]
     },
     "metadata": {
      "needs_background": "light"
     },
     "output_type": "display_data"
    },
    {
     "data": {
      "image/png": "[encoded data removed]",
      "text/plain": [
       "<Figure size 432x288 with 1 Axes>"
      ]
     },
     "metadata": {
      "needs_background": "light"
     },
     "output_type": "display_data"
    },
    {
     "data": {
      "image/png": "[encoded data removed]",
      "text/plain": [
       "<Figure size 432x288 with 1 Axes>"
      ]
     },
     "metadata": {
      "needs_background": "light"
     },
     "output_type": "display_data"
    },
    {
     "data": {
      "image/png": "[encoded data removed]",
      "text/plain": [
       "<Figure size 432x288 with 1 Axes>"
      ]
     },
     "metadata": {
      "needs_background": "light"
     },
     "output_type": "display_data"
    }
   ],
   "source": [
    "#outliers\n",
    "\n",
    "for feature in continuous_features:\n",
    "    dataset.boxplot(column=feature )\n",
    "    plt.ylabel(feature)\n",
    "    plt.title(feature)\n",
    "    plt.show();"
   ]
  },
  {
   "cell_type": "code",
   "execution_count": 17,
   "id": "5817c449",
   "metadata": {},
   "outputs": [
    {
     "data": {
      "image/png": "[encoded data removed]",
      "text/plain": [
       "<Figure size 432x288 with 1 Axes>"
      ]
     },
     "metadata": {
      "needs_background": "light"
     },
     "output_type": "display_data"
    },
    {
     "data": {
      "image/png": "[encoded data removed]",
      "text/plain": [
       "<Figure size 432x288 with 1 Axes>"
      ]
     },
     "metadata": {
      "needs_background": "light"
     },
     "output_type": "display_data"
    },
    {
     "data": {
      "image/png": "[encoded data removed]",
      "text/plain": [
       "<Figure size 432x288 with 1 Axes>"
      ]
     },
     "metadata": {
      "needs_background": "light"
     },
     "output_type": "display_data"
    },
    {
     "data": {
      "image/png": "[encoded data removed]",
      "text/plain": [
       "<Figure size 432x288 with 1 Axes>"
      ]
     },
     "metadata": {
      "needs_background": "light"
     },
     "output_type": "display_data"
    },
    {
     "data": {
      "image/png": "[encoded data removed]",
      "text/plain": [
       "<Figure size 432x288 with 1 Axes>"
      ]
     },
     "metadata": {
      "needs_background": "light"
     },
     "output_type": "display_data"
    },
    {
     "data": {
      "image/png": "[encoded data removed]",
      "text/plain": [
       "<Figure size 432x288 with 1 Axes>"
      ]
     },
     "metadata": {
      "needs_background": "light"
     },
     "output_type": "display_data"
    }
   ],
   "source": [
    "#outliers after log normalization\n",
    "\n",
    "data=dataset.copy()\n",
    "for feature in continuous_features:\n",
    "    \n",
    "    data[feature]=np.log(data[feature]+1)\n",
    "    data.boxplot(feature)\n",
    "    plt.ylabel(\"Normalized\"+feature)\n",
    "    plt.title(\"Normalized\"+feature)\n",
    "    plt.show();"
   ]
  },
  {
   "cell_type": "markdown",
   "id": "1280c941",
   "metadata": {},
   "source": [
    "It is necessary to log scale all continuous numerical features except Age.Because Age already have a normal distribution"
   ]
  },
  {
   "cell_type": "markdown",
   "id": "af004e2f",
   "metadata": {},
   "source": [
    "## Categorical features\n"
   ]
  },
  {
   "cell_type": "code",
   "execution_count": 18,
   "id": "e6622c85",
   "metadata": {},
   "outputs": [],
   "source": [
    "categorical_features=[feature for feature in dataset.columns if feature not in (numerical_features.tolist()+[\"Name\",\"PassengerId\"]) ]"
   ]
  },
  {
   "cell_type": "code",
   "execution_count": 19,
   "id": "907d1dcd",
   "metadata": {},
   "outputs": [
    {
     "data": {
      "text/plain": [
       "['HomePlanet', 'CryoSleep', 'Cabin', 'Destination', 'VIP', 'Transported']"
      ]
     },
     "execution_count": 19,
     "metadata": {},
     "output_type": "execute_result"
    }
   ],
   "source": [
    "categorical_features\n"
   ]
  },
  {
   "cell_type": "code",
   "execution_count": 20,
   "id": "45afc6aa",
   "metadata": {},
   "outputs": [
    {
     "name": "stdout",
     "output_type": "stream",
     "text": [
      "The feature is HomePlanet and the number of categories are 4\n",
      "The feature is CryoSleep and the number of categories are 3\n",
      "The feature is Cabin and the number of categories are 6561\n",
      "The feature is Destination and the number of categories are 4\n",
      "The feature is VIP and the number of categories are 3\n",
      "The feature is Transported and the number of categories are 2\n"
     ]
    }
   ],
   "source": [
    "for feature in categorical_features:\n",
    "    print(\"The feature is {} and the number of categories are {}\".format(feature,len(dataset[feature].unique())))"
   ]
  },
  {
   "cell_type": "code",
   "execution_count": 21,
   "id": "a69caf1b",
   "metadata": {},
   "outputs": [],
   "source": [
    "#for feature in categorical_features:\n",
    "#    sns.barplot(dataset[feature].value_counts().index,dataset[feature].value_counts()).set_title(feature)\n",
    "#    plt.show()"
   ]
  },
  {
   "cell_type": "markdown",
   "id": "623402b4",
   "metadata": {},
   "source": [
    "Cabin graph is  very messy. This is an area where we may want to do some feature engineering.Also we have to see whether Name(any special persons such as Dr.,Colnel etc.) and PassengerId(any group number) has any kind of. relationship to Transported."
   ]
  },
  {
   "cell_type": "code",
   "execution_count": 22,
   "id": "d1560a21",
   "metadata": {},
   "outputs": [
    {
     "name": "stdout",
     "output_type": "stream",
     "text": [
      "HomePlanet   Earth  Europa  Mars\n",
      "Transported                     \n",
      "False         2594     706   820\n",
      "True          1913    1364   902\n",
      "\n",
      "CryoSleep    False  True\n",
      "Transported             \n",
      "False         3571   537\n",
      "True          1760  2416\n",
      "\n",
      "Destination  55 Cancri e  PSO J318.5-22  TRAPPIST-1e\n",
      "Transported                                         \n",
      "False                684            382         3063\n",
      "True                1066            396         2725\n",
      "\n",
      "VIP          False  True\n",
      "Transported             \n",
      "False         4003   118\n",
      "True          4101    75\n",
      "\n"
     ]
    }
   ],
   "source": [
    "categorical_features_temp=[feature for feature in categorical_features if feature not in [\"Transported\",\"Cabin\"]]\n",
    "for feature in categorical_features_temp:\n",
    "    print(pd.pivot_table(dataset,index=\"Transported\",columns=feature,values=\"Cabin\",aggfunc=\"count\"))\n",
    "    print()"
   ]
  },
  {
   "cell_type": "markdown",
   "id": "edde33f7",
   "metadata": {},
   "source": [
    "#  Feature Engineering\n"
   ]
  },
  {
   "cell_type": "markdown",
   "id": "10e432c0",
   "metadata": {},
   "source": [
    "## 1) Cabin,Name and PassengerId columns"
   ]
  },
  {
   "cell_type": "markdown",
   "id": "e6c752d6",
   "metadata": {},
   "source": [
    "## 1) Cabin"
   ]
  },
  {
   "cell_type": "code",
   "execution_count": 23,
   "id": "4d574f17",
   "metadata": {},
   "outputs": [
    {
     "data": {
      "text/plain": [
       "0          B/0/P\n",
       "1          F/0/S\n",
       "2          A/0/S\n",
       "3          A/0/S\n",
       "4          F/1/S\n",
       "          ...   \n",
       "8688      A/98/P\n",
       "8689    G/1499/S\n",
       "8690    G/1500/S\n",
       "8691     E/608/S\n",
       "8692     E/608/S\n",
       "Name: Cabin, Length: 8693, dtype: object"
      ]
     },
     "execution_count": 23,
     "metadata": {},
     "output_type": "execute_result"
    }
   ],
   "source": [
    "dataset[\"Cabin\"]"
   ]
  },
  {
   "cell_type": "code",
   "execution_count": 24,
   "id": "58ae7824",
   "metadata": {},
   "outputs": [
    {
     "name": "stdout",
     "output_type": "stream",
     "text": [
      "3    8494\n",
      "0     199\n",
      "Name: Cabin_multiple, dtype: int64\n",
      "199\n"
     ]
    }
   ],
   "source": [
    "data=dataset.copy()\n",
    "data[\"Cabin_multiple\"]=data[\"Cabin\"].apply(lambda x: 0 if pd.isna(x) else len(str(x).split(\"/\")))\n",
    "print(data[\"Cabin_multiple\"].value_counts())\n",
    "print(data[\"Cabin\"].isnull().sum())\n",
    "# every non null entry is in  deck/num/side format"
   ]
  },
  {
   "cell_type": "code",
   "execution_count": 25,
   "id": "7c59bab7",
   "metadata": {},
   "outputs": [
    {
     "data": {
      "text/html": [
       "<div>\n",
       "<style scoped>\n",
       "    .dataframe tbody tr th:only-of-type {\n",
       "        vertical-align: middle;\n",
       "    }\n",
       "\n",
       "    .dataframe tbody tr th {\n",
       "        vertical-align: top;\n",
       "    }\n",
       "\n",
       "    .dataframe thead th {\n",
       "        text-align: right;\n",
       "    }\n",
       "</style>\n",
       "<table border=\"1\" class=\"dataframe\">\n",
       "  <thead>\n",
       "    <tr style=\"text-align: right;\">\n",
       "      <th>Cabin_multiple</th>\n",
       "      <th>0</th>\n",
       "      <th>3</th>\n",
       "    </tr>\n",
       "    <tr>\n",
       "      <th>Transported</th>\n",
       "      <th></th>\n",
       "      <th></th>\n",
       "    </tr>\n",
       "  </thead>\n",
       "  <tbody>\n",
       "    <tr>\n",
       "      <th>False</th>\n",
       "      <td>99</td>\n",
       "      <td>4216</td>\n",
       "    </tr>\n",
       "    <tr>\n",
       "      <th>True</th>\n",
       "      <td>100</td>\n",
       "      <td>4278</td>\n",
       "    </tr>\n",
       "  </tbody>\n",
       "</table>\n",
       "</div>"
      ],
      "text/plain": [
       "Cabin_multiple    0     3\n",
       "Transported              \n",
       "False            99  4216\n",
       "True            100  4278"
      ]
     },
     "execution_count": 25,
     "metadata": {},
     "output_type": "execute_result"
    }
   ],
   "source": [
    "pd.pivot_table(data,index=\"Transported\",columns=\"Cabin_multiple\",values=\"PassengerId\",aggfunc=\"count\")"
   ]
  },
  {
   "cell_type": "code",
   "execution_count": 26,
   "id": "eff258de",
   "metadata": {},
   "outputs": [],
   "source": [
    "#categorize with deck,num and side.NaN values are considered as seperate group in each\n",
    "data[\"Cabin_deck\"]=data[\"Cabin\"].apply(lambda x: \"Missing\" if pd.isna(x) else str(x).split(\"/\")[0])\n",
    "data[\"Cabin_num\"]=data[\"Cabin\"].apply(lambda x: \"Missing\" if pd.isna(x) else str(x).split(\"/\")[1])\n",
    "data[\"Cabin_side\"]=data[\"Cabin\"].apply(lambda x: \"Missing\" if pd.isna(x) else str(x).split(\"/\")[2])"
   ]
  },
  {
   "cell_type": "code",
   "execution_count": 27,
   "id": "94f1bbf5",
   "metadata": {},
   "outputs": [
    {
     "name": "stderr",
     "output_type": "stream",
     "text": [
      "/Users/kumara/opt/anaconda3/envs/tf/lib/python3.7/site-packages/seaborn/_decorators.py:43: FutureWarning: Pass the following variables as keyword args: x, y. From version 0.12, the only valid positional argument will be `data`, and passing other arguments without an explicit keyword will result in an error or misinterpretation.\n",
      "  FutureWarning\n"
     ]
    },
    {
     "data": {
      "text/plain": [
       "Text(0.5, 1.0, 'Cabin_deck')"
      ]
     },
     "execution_count": 27,
     "metadata": {},
     "output_type": "execute_result"
    },
    {
     "data": {
      "image/png": "[encoded data removed]",
      "text/plain": [
       "<Figure size 432x288 with 1 Axes>"
      ]
     },
     "metadata": {
      "needs_background": "light"
     },
     "output_type": "display_data"
    }
   ],
   "source": [
    "## 1 Cabin_deck\n",
    "sns.barplot(data[\"Cabin_deck\"].value_counts().index,data[\"Cabin_deck\"].value_counts()).set_title(\"Cabin_deck\")"
   ]
  },
  {
   "cell_type": "code",
   "execution_count": 28,
   "id": "28bc0afd",
   "metadata": {},
   "outputs": [
    {
     "data": {
      "text/html": [
       "<div>\n",
       "<style scoped>\n",
       "    .dataframe tbody tr th:only-of-type {\n",
       "        vertical-align: middle;\n",
       "    }\n",
       "\n",
       "    .dataframe tbody tr th {\n",
       "        vertical-align: top;\n",
       "    }\n",
       "\n",
       "    .dataframe thead th {\n",
       "        text-align: right;\n",
       "    }\n",
       "</style>\n",
       "<table border=\"1\" class=\"dataframe\">\n",
       "  <thead>\n",
       "    <tr style=\"text-align: right;\">\n",
       "      <th>Cabin_deck</th>\n",
       "      <th>A</th>\n",
       "      <th>B</th>\n",
       "      <th>C</th>\n",
       "      <th>D</th>\n",
       "      <th>E</th>\n",
       "      <th>F</th>\n",
       "      <th>G</th>\n",
       "      <th>Missing</th>\n",
       "      <th>T</th>\n",
       "    </tr>\n",
       "    <tr>\n",
       "      <th>Transported</th>\n",
       "      <th></th>\n",
       "      <th></th>\n",
       "      <th></th>\n",
       "      <th></th>\n",
       "      <th></th>\n",
       "      <th></th>\n",
       "      <th></th>\n",
       "      <th></th>\n",
       "      <th></th>\n",
       "    </tr>\n",
       "  </thead>\n",
       "  <tbody>\n",
       "    <tr>\n",
       "      <th>False</th>\n",
       "      <td>129</td>\n",
       "      <td>207</td>\n",
       "      <td>239</td>\n",
       "      <td>271</td>\n",
       "      <td>563</td>\n",
       "      <td>1565</td>\n",
       "      <td>1238</td>\n",
       "      <td>99</td>\n",
       "      <td>4</td>\n",
       "    </tr>\n",
       "    <tr>\n",
       "      <th>True</th>\n",
       "      <td>127</td>\n",
       "      <td>572</td>\n",
       "      <td>508</td>\n",
       "      <td>207</td>\n",
       "      <td>313</td>\n",
       "      <td>1229</td>\n",
       "      <td>1321</td>\n",
       "      <td>100</td>\n",
       "      <td>1</td>\n",
       "    </tr>\n",
       "  </tbody>\n",
       "</table>\n",
       "</div>"
      ],
      "text/plain": [
       "Cabin_deck     A    B    C    D    E     F     G  Missing  T\n",
       "Transported                                                 \n",
       "False        129  207  239  271  563  1565  1238       99  4\n",
       "True         127  572  508  207  313  1229  1321      100  1"
      ]
     },
     "execution_count": 28,
     "metadata": {},
     "output_type": "execute_result"
    }
   ],
   "source": [
    "pd.pivot_table(data,index=\"Transported\",columns=\"Cabin_deck\",values=\"PassengerId\",aggfunc=\"count\")"
   ]
  },
  {
   "cell_type": "code",
   "execution_count": 29,
   "id": "a7bc86cc",
   "metadata": {},
   "outputs": [
    {
     "name": "stderr",
     "output_type": "stream",
     "text": [
      "/Users/kumara/opt/anaconda3/envs/tf/lib/python3.7/site-packages/seaborn/_decorators.py:43: FutureWarning: Pass the following variables as keyword args: x, y. From version 0.12, the only valid positional argument will be `data`, and passing other arguments without an explicit keyword will result in an error or misinterpretation.\n",
      "  FutureWarning\n"
     ]
    },
    {
     "data": {
      "text/plain": [
       "<AxesSubplot:ylabel='Cabin_side'>"
      ]
     },
     "execution_count": 29,
     "metadata": {},
     "output_type": "execute_result"
    },
    {
     "data": {
      "image/png": "[encoded data removed]",
      "text/plain": [
       "<Figure size 432x288 with 1 Axes>"
      ]
     },
     "metadata": {
      "needs_background": "light"
     },
     "output_type": "display_data"
    }
   ],
   "source": [
    "## 2 Cabin_side\n",
    "sns.barplot(data[\"Cabin_side\"].value_counts().index,data[\"Cabin_side\"].value_counts())"
   ]
  },
  {
   "cell_type": "code",
   "execution_count": 30,
   "id": "c03b2f53",
   "metadata": {},
   "outputs": [
    {
     "data": {
      "text/html": [
       "<div>\n",
       "<style scoped>\n",
       "    .dataframe tbody tr th:only-of-type {\n",
       "        vertical-align: middle;\n",
       "    }\n",
       "\n",
       "    .dataframe tbody tr th {\n",
       "        vertical-align: top;\n",
       "    }\n",
       "\n",
       "    .dataframe thead th {\n",
       "        text-align: right;\n",
       "    }\n",
       "</style>\n",
       "<table border=\"1\" class=\"dataframe\">\n",
       "  <thead>\n",
       "    <tr style=\"text-align: right;\">\n",
       "      <th>Cabin_side</th>\n",
       "      <th>Missing</th>\n",
       "      <th>P</th>\n",
       "      <th>S</th>\n",
       "    </tr>\n",
       "    <tr>\n",
       "      <th>Transported</th>\n",
       "      <th></th>\n",
       "      <th></th>\n",
       "      <th></th>\n",
       "    </tr>\n",
       "  </thead>\n",
       "  <tbody>\n",
       "    <tr>\n",
       "      <th>False</th>\n",
       "      <td>99</td>\n",
       "      <td>2308</td>\n",
       "      <td>1908</td>\n",
       "    </tr>\n",
       "    <tr>\n",
       "      <th>True</th>\n",
       "      <td>100</td>\n",
       "      <td>1898</td>\n",
       "      <td>2380</td>\n",
       "    </tr>\n",
       "  </tbody>\n",
       "</table>\n",
       "</div>"
      ],
      "text/plain": [
       "Cabin_side   Missing     P     S\n",
       "Transported                     \n",
       "False             99  2308  1908\n",
       "True             100  1898  2380"
      ]
     },
     "execution_count": 30,
     "metadata": {},
     "output_type": "execute_result"
    }
   ],
   "source": [
    "pd.pivot_table(data,index=\"Transported\",columns=\"Cabin_side\",values=\"PassengerId\",aggfunc=\"count\")"
   ]
  },
  {
   "cell_type": "markdown",
   "id": "3ebb2de4",
   "metadata": {},
   "source": [
    "There is some relation between the target and Cabin_side and Cabin_deck.We can replace Cabin feature with those 2."
   ]
  },
  {
   "cell_type": "code",
   "execution_count": 31,
   "id": "ca37d66e",
   "metadata": {},
   "outputs": [],
   "source": [
    "dataset[\"Cabin_deck\"]=data[\"Cabin_deck\"]\n",
    "dataset[\"Cabin_side\"]=data[\"Cabin_side\"]"
   ]
  },
  {
   "cell_type": "code",
   "execution_count": 32,
   "id": "2d751a38",
   "metadata": {},
   "outputs": [],
   "source": [
    "#code to drop Cabin\n",
    "dataset.drop(\"Cabin\",axis=1,inplace=True)"
   ]
  },
  {
   "cell_type": "code",
   "execution_count": 33,
   "id": "e8d366af",
   "metadata": {},
   "outputs": [
    {
     "data": {
      "text/html": [
       "<div>\n",
       "<style scoped>\n",
       "    .dataframe tbody tr th:only-of-type {\n",
       "        vertical-align: middle;\n",
       "    }\n",
       "\n",
       "    .dataframe tbody tr th {\n",
       "        vertical-align: top;\n",
       "    }\n",
       "\n",
       "    .dataframe thead th {\n",
       "        text-align: right;\n",
       "    }\n",
       "</style>\n",
       "<table border=\"1\" class=\"dataframe\">\n",
       "  <thead>\n",
       "    <tr style=\"text-align: right;\">\n",
       "      <th></th>\n",
       "      <th>PassengerId</th>\n",
       "      <th>HomePlanet</th>\n",
       "      <th>CryoSleep</th>\n",
       "      <th>Destination</th>\n",
       "      <th>Age</th>\n",
       "      <th>VIP</th>\n",
       "      <th>RoomService</th>\n",
       "      <th>FoodCourt</th>\n",
       "      <th>ShoppingMall</th>\n",
       "      <th>Spa</th>\n",
       "      <th>VRDeck</th>\n",
       "      <th>Name</th>\n",
       "      <th>Transported</th>\n",
       "      <th>Cabin_deck</th>\n",
       "      <th>Cabin_side</th>\n",
       "    </tr>\n",
       "  </thead>\n",
       "  <tbody>\n",
       "    <tr>\n",
       "      <th>0</th>\n",
       "      <td>0001_01</td>\n",
       "      <td>Europa</td>\n",
       "      <td>False</td>\n",
       "      <td>TRAPPIST-1e</td>\n",
       "      <td>39.0</td>\n",
       "      <td>False</td>\n",
       "      <td>0.0</td>\n",
       "      <td>0.0</td>\n",
       "      <td>0.0</td>\n",
       "      <td>0.0</td>\n",
       "      <td>0.0</td>\n",
       "      <td>Maham Ofracculy</td>\n",
       "      <td>False</td>\n",
       "      <td>B</td>\n",
       "      <td>P</td>\n",
       "    </tr>\n",
       "    <tr>\n",
       "      <th>1</th>\n",
       "      <td>0002_01</td>\n",
       "      <td>Earth</td>\n",
       "      <td>False</td>\n",
       "      <td>TRAPPIST-1e</td>\n",
       "      <td>24.0</td>\n",
       "      <td>False</td>\n",
       "      <td>109.0</td>\n",
       "      <td>9.0</td>\n",
       "      <td>25.0</td>\n",
       "      <td>549.0</td>\n",
       "      <td>44.0</td>\n",
       "      <td>Juanna Vines</td>\n",
       "      <td>True</td>\n",
       "      <td>F</td>\n",
       "      <td>S</td>\n",
       "    </tr>\n",
       "    <tr>\n",
       "      <th>2</th>\n",
       "      <td>0003_01</td>\n",
       "      <td>Europa</td>\n",
       "      <td>False</td>\n",
       "      <td>TRAPPIST-1e</td>\n",
       "      <td>58.0</td>\n",
       "      <td>True</td>\n",
       "      <td>43.0</td>\n",
       "      <td>3576.0</td>\n",
       "      <td>0.0</td>\n",
       "      <td>6715.0</td>\n",
       "      <td>49.0</td>\n",
       "      <td>Altark Susent</td>\n",
       "      <td>False</td>\n",
       "      <td>A</td>\n",
       "      <td>S</td>\n",
       "    </tr>\n",
       "    <tr>\n",
       "      <th>3</th>\n",
       "      <td>0003_02</td>\n",
       "      <td>Europa</td>\n",
       "      <td>False</td>\n",
       "      <td>TRAPPIST-1e</td>\n",
       "      <td>33.0</td>\n",
       "      <td>False</td>\n",
       "      <td>0.0</td>\n",
       "      <td>1283.0</td>\n",
       "      <td>371.0</td>\n",
       "      <td>3329.0</td>\n",
       "      <td>193.0</td>\n",
       "      <td>Solam Susent</td>\n",
       "      <td>False</td>\n",
       "      <td>A</td>\n",
       "      <td>S</td>\n",
       "    </tr>\n",
       "    <tr>\n",
       "      <th>4</th>\n",
       "      <td>0004_01</td>\n",
       "      <td>Earth</td>\n",
       "      <td>False</td>\n",
       "      <td>TRAPPIST-1e</td>\n",
       "      <td>16.0</td>\n",
       "      <td>False</td>\n",
       "      <td>303.0</td>\n",
       "      <td>70.0</td>\n",
       "      <td>151.0</td>\n",
       "      <td>565.0</td>\n",
       "      <td>2.0</td>\n",
       "      <td>Willy Santantines</td>\n",
       "      <td>True</td>\n",
       "      <td>F</td>\n",
       "      <td>S</td>\n",
       "    </tr>\n",
       "  </tbody>\n",
       "</table>\n",
       "</div>"
      ],
      "text/plain": [
       "  PassengerId HomePlanet CryoSleep  Destination   Age    VIP  RoomService  \\\n",
       "0     0001_01     Europa     False  TRAPPIST-1e  39.0  False          0.0   \n",
       "1     0002_01      Earth     False  TRAPPIST-1e  24.0  False        109.0   \n",
       "2     0003_01     Europa     False  TRAPPIST-1e  58.0   True         43.0   \n",
       "3     0003_02     Europa     False  TRAPPIST-1e  33.0  False          0.0   \n",
       "4     0004_01      Earth     False  TRAPPIST-1e  16.0  False        303.0   \n",
       "\n",
       "   FoodCourt  ShoppingMall     Spa  VRDeck               Name  Transported  \\\n",
       "0        0.0           0.0     0.0     0.0    Maham Ofracculy        False   \n",
       "1        9.0          25.0   549.0    44.0       Juanna Vines         True   \n",
       "2     3576.0           0.0  6715.0    49.0      Altark Susent        False   \n",
       "3     1283.0         371.0  3329.0   193.0       Solam Susent        False   \n",
       "4       70.0         151.0   565.0     2.0  Willy Santantines         True   \n",
       "\n",
       "  Cabin_deck Cabin_side  \n",
       "0          B          P  \n",
       "1          F          S  \n",
       "2          A          S  \n",
       "3          A          S  \n",
       "4          F          S  "
      ]
     },
     "execution_count": 33,
     "metadata": {},
     "output_type": "execute_result"
    }
   ],
   "source": [
    "dataset.head()"
   ]
  },
  {
   "cell_type": "markdown",
   "id": "364eacd5",
   "metadata": {},
   "source": [
    "## 2) Name"
   ]
  },
  {
   "cell_type": "code",
   "execution_count": 34,
   "id": "3f1a540e",
   "metadata": {},
   "outputs": [
    {
     "data": {
      "text/plain": [
       "0         Maham Ofracculy\n",
       "1            Juanna Vines\n",
       "2           Altark Susent\n",
       "3            Solam Susent\n",
       "4       Willy Santantines\n",
       "              ...        \n",
       "8688    Gravior Noxnuther\n",
       "8689      Kurta Mondalley\n",
       "8690         Fayey Connon\n",
       "8691     Celeon Hontichre\n",
       "8692     Propsh Hontichre\n",
       "Name: Name, Length: 8693, dtype: object"
      ]
     },
     "execution_count": 34,
     "metadata": {},
     "output_type": "execute_result"
    }
   ],
   "source": [
    "data[\"Name\"]"
   ]
  },
  {
   "cell_type": "code",
   "execution_count": 35,
   "id": "a1c984da",
   "metadata": {},
   "outputs": [],
   "source": [
    "#feature engineering on person's title \n",
    "\n",
    "data['name_title'] = data[\"Name\"].apply(lambda x: \"Missing\" if pd.isna(x) else x.split(',')[0].strip())"
   ]
  },
  {
   "cell_type": "code",
   "execution_count": 36,
   "id": "4c5da973",
   "metadata": {},
   "outputs": [
    {
     "data": {
      "text/plain": [
       "0         Maham Ofracculy\n",
       "1            Juanna Vines\n",
       "2           Altark Susent\n",
       "3            Solam Susent\n",
       "4       Willy Santantines\n",
       "              ...        \n",
       "8688    Gravior Noxnuther\n",
       "8689      Kurta Mondalley\n",
       "8690         Fayey Connon\n",
       "8691     Celeon Hontichre\n",
       "8692     Propsh Hontichre\n",
       "Name: name_title, Length: 8693, dtype: object"
      ]
     },
     "execution_count": 36,
     "metadata": {},
     "output_type": "execute_result"
    }
   ],
   "source": [
    "data[\"name_title\"]"
   ]
  },
  {
   "cell_type": "markdown",
   "id": "51d75317",
   "metadata": {},
   "source": [
    "There are no any special names Dr,Mrs. etc.We can omit Name column."
   ]
  },
  {
   "cell_type": "code",
   "execution_count": 37,
   "id": "4ec07903",
   "metadata": {},
   "outputs": [],
   "source": [
    "##code for drop name\n",
    "dataset.drop(\"Name\",axis=1,inplace=True)"
   ]
  },
  {
   "cell_type": "markdown",
   "id": "15e93ee3",
   "metadata": {},
   "source": [
    "## 3) PassengerId"
   ]
  },
  {
   "cell_type": "markdown",
   "id": "167ef7f5",
   "metadata": {},
   "source": [
    "Each Id takes the form gggg_pp where gggg indicates a group the passenger is travelling with and pp is their number within the group. People in a group are often family members, but not always"
   ]
  },
  {
   "cell_type": "code",
   "execution_count": 38,
   "id": "95667323",
   "metadata": {},
   "outputs": [
    {
     "data": {
      "text/plain": [
       "0"
      ]
     },
     "execution_count": 38,
     "metadata": {},
     "output_type": "execute_result"
    }
   ],
   "source": [
    "#No any nulls\n",
    "dataset[\"PassengerId\"].isnull().sum()"
   ]
  },
  {
   "cell_type": "code",
   "execution_count": 39,
   "id": "0f35ed2f",
   "metadata": {},
   "outputs": [],
   "source": [
    "dataset[\"Passenger_Group\"]=dataset[\"PassengerId\"].apply(lambda x: int(str(x).split(\"_\")[0]))"
   ]
  },
  {
   "cell_type": "code",
   "execution_count": 40,
   "id": "91f4d858",
   "metadata": {},
   "outputs": [
    {
     "data": {
      "text/plain": [
       "0          1\n",
       "1          2\n",
       "2          3\n",
       "3          3\n",
       "4          4\n",
       "        ... \n",
       "8688    9276\n",
       "8689    9278\n",
       "8690    9279\n",
       "8691    9280\n",
       "8692    9280\n",
       "Name: Passenger_Group, Length: 8693, dtype: int64"
      ]
     },
     "execution_count": 40,
     "metadata": {},
     "output_type": "execute_result"
    }
   ],
   "source": [
    "dataset[\"Passenger_Group\"]"
   ]
  },
  {
   "cell_type": "code",
   "execution_count": 41,
   "id": "23bb1ff4",
   "metadata": {},
   "outputs": [
    {
     "name": "stdout",
     "output_type": "stream",
     "text": [
      "No of groups 6217\n",
      "No of passengers 8693\n"
     ]
    }
   ],
   "source": [
    "print(\"No of groups {}\".format(len(dataset[\"Passenger_Group\"].unique())))\n",
    "print(\"No of passengers {}\".format(len(dataset)))"
   ]
  },
  {
   "cell_type": "code",
   "execution_count": 42,
   "id": "85f3b937",
   "metadata": {},
   "outputs": [
    {
     "data": {
      "text/plain": [
       "(array([867., 877., 854., 850., 911., 862., 937., 825., 843., 867.]),\n",
       " array([1.0000e+00, 9.2890e+02, 1.8568e+03, 2.7847e+03, 3.7126e+03,\n",
       "        4.6405e+03, 5.5684e+03, 6.4963e+03, 7.4242e+03, 8.3521e+03,\n",
       "        9.2800e+03]),\n",
       " <BarContainer object of 10 artists>)"
      ]
     },
     "execution_count": 42,
     "metadata": {},
     "output_type": "execute_result"
    },
    {
     "data": {
      "image/png": "[encoded data removed]",
      "text/plain": [
       "<Figure size 432x288 with 1 Axes>"
      ]
     },
     "metadata": {
      "needs_background": "light"
     },
     "output_type": "display_data"
    }
   ],
   "source": [
    "plt.hist(dataset[\"Passenger_Group\"])"
   ]
  },
  {
   "cell_type": "code",
   "execution_count": 43,
   "id": "c2bc2553",
   "metadata": {},
   "outputs": [],
   "source": [
    "#dataset.groupby(\"Passenger_Group\")[\"Transported\"].median().plot().bar()\n",
    "#plt.title(\"Passenger_Group\")\n",
    "#plt.show()"
   ]
  },
  {
   "cell_type": "code",
   "execution_count": 44,
   "id": "df4ff65c",
   "metadata": {},
   "outputs": [],
   "source": [
    "dataset.drop(\"PassengerId\",axis=1,inplace=True)"
   ]
  },
  {
   "cell_type": "code",
   "execution_count": 45,
   "id": "8932bc4a",
   "metadata": {},
   "outputs": [
    {
     "data": {
      "text/html": [
       "<div>\n",
       "<style scoped>\n",
       "    .dataframe tbody tr th:only-of-type {\n",
       "        vertical-align: middle;\n",
       "    }\n",
       "\n",
       "    .dataframe tbody tr th {\n",
       "        vertical-align: top;\n",
       "    }\n",
       "\n",
       "    .dataframe thead th {\n",
       "        text-align: right;\n",
       "    }\n",
       "</style>\n",
       "<table border=\"1\" class=\"dataframe\">\n",
       "  <thead>\n",
       "    <tr style=\"text-align: right;\">\n",
       "      <th></th>\n",
       "      <th>HomePlanet</th>\n",
       "      <th>CryoSleep</th>\n",
       "      <th>Destination</th>\n",
       "      <th>Age</th>\n",
       "      <th>VIP</th>\n",
       "      <th>RoomService</th>\n",
       "      <th>FoodCourt</th>\n",
       "      <th>ShoppingMall</th>\n",
       "      <th>Spa</th>\n",
       "      <th>VRDeck</th>\n",
       "      <th>Transported</th>\n",
       "      <th>Cabin_deck</th>\n",
       "      <th>Cabin_side</th>\n",
       "      <th>Passenger_Group</th>\n",
       "    </tr>\n",
       "  </thead>\n",
       "  <tbody>\n",
       "    <tr>\n",
       "      <th>0</th>\n",
       "      <td>Europa</td>\n",
       "      <td>False</td>\n",
       "      <td>TRAPPIST-1e</td>\n",
       "      <td>39.0</td>\n",
       "      <td>False</td>\n",
       "      <td>0.0</td>\n",
       "      <td>0.0</td>\n",
       "      <td>0.0</td>\n",
       "      <td>0.0</td>\n",
       "      <td>0.0</td>\n",
       "      <td>False</td>\n",
       "      <td>B</td>\n",
       "      <td>P</td>\n",
       "      <td>1</td>\n",
       "    </tr>\n",
       "    <tr>\n",
       "      <th>1</th>\n",
       "      <td>Earth</td>\n",
       "      <td>False</td>\n",
       "      <td>TRAPPIST-1e</td>\n",
       "      <td>24.0</td>\n",
       "      <td>False</td>\n",
       "      <td>109.0</td>\n",
       "      <td>9.0</td>\n",
       "      <td>25.0</td>\n",
       "      <td>549.0</td>\n",
       "      <td>44.0</td>\n",
       "      <td>True</td>\n",
       "      <td>F</td>\n",
       "      <td>S</td>\n",
       "      <td>2</td>\n",
       "    </tr>\n",
       "    <tr>\n",
       "      <th>2</th>\n",
       "      <td>Europa</td>\n",
       "      <td>False</td>\n",
       "      <td>TRAPPIST-1e</td>\n",
       "      <td>58.0</td>\n",
       "      <td>True</td>\n",
       "      <td>43.0</td>\n",
       "      <td>3576.0</td>\n",
       "      <td>0.0</td>\n",
       "      <td>6715.0</td>\n",
       "      <td>49.0</td>\n",
       "      <td>False</td>\n",
       "      <td>A</td>\n",
       "      <td>S</td>\n",
       "      <td>3</td>\n",
       "    </tr>\n",
       "    <tr>\n",
       "      <th>3</th>\n",
       "      <td>Europa</td>\n",
       "      <td>False</td>\n",
       "      <td>TRAPPIST-1e</td>\n",
       "      <td>33.0</td>\n",
       "      <td>False</td>\n",
       "      <td>0.0</td>\n",
       "      <td>1283.0</td>\n",
       "      <td>371.0</td>\n",
       "      <td>3329.0</td>\n",
       "      <td>193.0</td>\n",
       "      <td>False</td>\n",
       "      <td>A</td>\n",
       "      <td>S</td>\n",
       "      <td>3</td>\n",
       "    </tr>\n",
       "    <tr>\n",
       "      <th>4</th>\n",
       "      <td>Earth</td>\n",
       "      <td>False</td>\n",
       "      <td>TRAPPIST-1e</td>\n",
       "      <td>16.0</td>\n",
       "      <td>False</td>\n",
       "      <td>303.0</td>\n",
       "      <td>70.0</td>\n",
       "      <td>151.0</td>\n",
       "      <td>565.0</td>\n",
       "      <td>2.0</td>\n",
       "      <td>True</td>\n",
       "      <td>F</td>\n",
       "      <td>S</td>\n",
       "      <td>4</td>\n",
       "    </tr>\n",
       "  </tbody>\n",
       "</table>\n",
       "</div>"
      ],
      "text/plain": [
       "  HomePlanet CryoSleep  Destination   Age    VIP  RoomService  FoodCourt  \\\n",
       "0     Europa     False  TRAPPIST-1e  39.0  False          0.0        0.0   \n",
       "1      Earth     False  TRAPPIST-1e  24.0  False        109.0        9.0   \n",
       "2     Europa     False  TRAPPIST-1e  58.0   True         43.0     3576.0   \n",
       "3     Europa     False  TRAPPIST-1e  33.0  False          0.0     1283.0   \n",
       "4      Earth     False  TRAPPIST-1e  16.0  False        303.0       70.0   \n",
       "\n",
       "   ShoppingMall     Spa  VRDeck  Transported Cabin_deck Cabin_side  \\\n",
       "0           0.0     0.0     0.0        False          B          P   \n",
       "1          25.0   549.0    44.0         True          F          S   \n",
       "2           0.0  6715.0    49.0        False          A          S   \n",
       "3         371.0  3329.0   193.0        False          A          S   \n",
       "4         151.0   565.0     2.0         True          F          S   \n",
       "\n",
       "   Passenger_Group  \n",
       "0                1  \n",
       "1                2  \n",
       "2                3  \n",
       "3                3  \n",
       "4                4  "
      ]
     },
     "execution_count": 45,
     "metadata": {},
     "output_type": "execute_result"
    }
   ],
   "source": [
    "dataset.head()"
   ]
  },
  {
   "cell_type": "markdown",
   "id": "15bafa37",
   "metadata": {},
   "source": [
    "## 2) Missing Values\n"
   ]
  },
  {
   "cell_type": "markdown",
   "id": "751182c3",
   "metadata": {},
   "source": [
    "1)Categorical Features"
   ]
  },
  {
   "cell_type": "code",
   "execution_count": 46,
   "id": "64a5ebf4",
   "metadata": {},
   "outputs": [
    {
     "name": "stdout",
     "output_type": "stream",
     "text": [
      "HomePlanet: 0.0231% percentage of missing values\n",
      "CryoSleep: 0.025% percentage of missing values\n",
      "Destination: 0.0209% percentage of missing values\n",
      "VIP: 0.0234% percentage of missing values\n"
     ]
    }
   ],
   "source": [
    "categorical_with_na=[feature for feature in dataset.columns if dataset[feature].isna().sum()>1 \n",
    "                     and dataset[feature].dtypes==\"O\"]\n",
    "for feature in categorical_with_na:\n",
    "    print(\"{}: {}% percentage of missing values\".format(feature,np.round(dataset[feature].isnull().mean(),4)))"
   ]
  },
  {
   "cell_type": "code",
   "execution_count": 47,
   "id": "8379977f",
   "metadata": {},
   "outputs": [],
   "source": [
    "## Replace missing value with a new label\n",
    "def replace_categorical_features(df,categorical_features):\n",
    "    data=df.copy()\n",
    "    data[categorical_features]=data[categorical_features].fillna(\"Missing\")\n",
    "    return data\n",
    "\n",
    "dataset=replace_categorical_features(dataset,categorical_with_na)\n"
   ]
  },
  {
   "cell_type": "code",
   "execution_count": 48,
   "id": "c554ab83",
   "metadata": {},
   "outputs": [
    {
     "data": {
      "text/plain": [
       "HomePlanet     0\n",
       "CryoSleep      0\n",
       "Destination    0\n",
       "VIP            0\n",
       "dtype: int64"
      ]
     },
     "execution_count": 48,
     "metadata": {},
     "output_type": "execute_result"
    }
   ],
   "source": [
    "#check\n",
    "dataset[categorical_with_na].isnull().sum()"
   ]
  },
  {
   "cell_type": "code",
   "execution_count": 49,
   "id": "be7b78fe",
   "metadata": {},
   "outputs": [
    {
     "data": {
      "text/html": [
       "<div>\n",
       "<style scoped>\n",
       "    .dataframe tbody tr th:only-of-type {\n",
       "        vertical-align: middle;\n",
       "    }\n",
       "\n",
       "    .dataframe tbody tr th {\n",
       "        vertical-align: top;\n",
       "    }\n",
       "\n",
       "    .dataframe thead th {\n",
       "        text-align: right;\n",
       "    }\n",
       "</style>\n",
       "<table border=\"1\" class=\"dataframe\">\n",
       "  <thead>\n",
       "    <tr style=\"text-align: right;\">\n",
       "      <th></th>\n",
       "      <th>HomePlanet</th>\n",
       "      <th>CryoSleep</th>\n",
       "      <th>Destination</th>\n",
       "      <th>Age</th>\n",
       "      <th>VIP</th>\n",
       "      <th>RoomService</th>\n",
       "      <th>FoodCourt</th>\n",
       "      <th>ShoppingMall</th>\n",
       "      <th>Spa</th>\n",
       "      <th>VRDeck</th>\n",
       "      <th>Transported</th>\n",
       "      <th>Cabin_deck</th>\n",
       "      <th>Cabin_side</th>\n",
       "      <th>Passenger_Group</th>\n",
       "    </tr>\n",
       "  </thead>\n",
       "  <tbody>\n",
       "    <tr>\n",
       "      <th>0</th>\n",
       "      <td>Europa</td>\n",
       "      <td>False</td>\n",
       "      <td>TRAPPIST-1e</td>\n",
       "      <td>39.0</td>\n",
       "      <td>False</td>\n",
       "      <td>0.0</td>\n",
       "      <td>0.0</td>\n",
       "      <td>0.0</td>\n",
       "      <td>0.0</td>\n",
       "      <td>0.0</td>\n",
       "      <td>False</td>\n",
       "      <td>B</td>\n",
       "      <td>P</td>\n",
       "      <td>1</td>\n",
       "    </tr>\n",
       "    <tr>\n",
       "      <th>1</th>\n",
       "      <td>Earth</td>\n",
       "      <td>False</td>\n",
       "      <td>TRAPPIST-1e</td>\n",
       "      <td>24.0</td>\n",
       "      <td>False</td>\n",
       "      <td>109.0</td>\n",
       "      <td>9.0</td>\n",
       "      <td>25.0</td>\n",
       "      <td>549.0</td>\n",
       "      <td>44.0</td>\n",
       "      <td>True</td>\n",
       "      <td>F</td>\n",
       "      <td>S</td>\n",
       "      <td>2</td>\n",
       "    </tr>\n",
       "    <tr>\n",
       "      <th>2</th>\n",
       "      <td>Europa</td>\n",
       "      <td>False</td>\n",
       "      <td>TRAPPIST-1e</td>\n",
       "      <td>58.0</td>\n",
       "      <td>True</td>\n",
       "      <td>43.0</td>\n",
       "      <td>3576.0</td>\n",
       "      <td>0.0</td>\n",
       "      <td>6715.0</td>\n",
       "      <td>49.0</td>\n",
       "      <td>False</td>\n",
       "      <td>A</td>\n",
       "      <td>S</td>\n",
       "      <td>3</td>\n",
       "    </tr>\n",
       "    <tr>\n",
       "      <th>3</th>\n",
       "      <td>Europa</td>\n",
       "      <td>False</td>\n",
       "      <td>TRAPPIST-1e</td>\n",
       "      <td>33.0</td>\n",
       "      <td>False</td>\n",
       "      <td>0.0</td>\n",
       "      <td>1283.0</td>\n",
       "      <td>371.0</td>\n",
       "      <td>3329.0</td>\n",
       "      <td>193.0</td>\n",
       "      <td>False</td>\n",
       "      <td>A</td>\n",
       "      <td>S</td>\n",
       "      <td>3</td>\n",
       "    </tr>\n",
       "    <tr>\n",
       "      <th>4</th>\n",
       "      <td>Earth</td>\n",
       "      <td>False</td>\n",
       "      <td>TRAPPIST-1e</td>\n",
       "      <td>16.0</td>\n",
       "      <td>False</td>\n",
       "      <td>303.0</td>\n",
       "      <td>70.0</td>\n",
       "      <td>151.0</td>\n",
       "      <td>565.0</td>\n",
       "      <td>2.0</td>\n",
       "      <td>True</td>\n",
       "      <td>F</td>\n",
       "      <td>S</td>\n",
       "      <td>4</td>\n",
       "    </tr>\n",
       "  </tbody>\n",
       "</table>\n",
       "</div>"
      ],
      "text/plain": [
       "  HomePlanet CryoSleep  Destination   Age    VIP  RoomService  FoodCourt  \\\n",
       "0     Europa     False  TRAPPIST-1e  39.0  False          0.0        0.0   \n",
       "1      Earth     False  TRAPPIST-1e  24.0  False        109.0        9.0   \n",
       "2     Europa     False  TRAPPIST-1e  58.0   True         43.0     3576.0   \n",
       "3     Europa     False  TRAPPIST-1e  33.0  False          0.0     1283.0   \n",
       "4      Earth     False  TRAPPIST-1e  16.0  False        303.0       70.0   \n",
       "\n",
       "   ShoppingMall     Spa  VRDeck  Transported Cabin_deck Cabin_side  \\\n",
       "0           0.0     0.0     0.0        False          B          P   \n",
       "1          25.0   549.0    44.0         True          F          S   \n",
       "2           0.0  6715.0    49.0        False          A          S   \n",
       "3         371.0  3329.0   193.0        False          A          S   \n",
       "4         151.0   565.0     2.0         True          F          S   \n",
       "\n",
       "   Passenger_Group  \n",
       "0                1  \n",
       "1                2  \n",
       "2                3  \n",
       "3                3  \n",
       "4                4  "
      ]
     },
     "execution_count": 49,
     "metadata": {},
     "output_type": "execute_result"
    }
   ],
   "source": [
    "dataset.head()"
   ]
  },
  {
   "cell_type": "markdown",
   "id": "fc48f6e5",
   "metadata": {},
   "source": [
    "2) Numerical Features"
   ]
  },
  {
   "cell_type": "code",
   "execution_count": 50,
   "id": "3c78db96",
   "metadata": {},
   "outputs": [
    {
     "name": "stdout",
     "output_type": "stream",
     "text": [
      "Age: 0.0206% percentage of missing values\n",
      "RoomService: 0.0208% percentage of missing values\n",
      "FoodCourt: 0.0211% percentage of missing values\n",
      "ShoppingMall: 0.0239% percentage of missing values\n",
      "Spa: 0.0211% percentage of missing values\n",
      "VRDeck: 0.0216% percentage of missing values\n"
     ]
    }
   ],
   "source": [
    "numerical_with_na=[feature for feature in dataset.columns if dataset[feature].isnull().sum()>1 \n",
    "                   and dataset[feature].dtypes!=\"0\" ]\n",
    "for feature in numerical_with_na:\n",
    "    print(\"{}: {}% percentage of missing values\".format(feature,np.round(dataset[feature].isnull().mean(),4)) )"
   ]
  },
  {
   "cell_type": "code",
   "execution_count": 51,
   "id": "0027a13e",
   "metadata": {},
   "outputs": [
    {
     "data": {
      "text/plain": [
       "Age             0\n",
       "RoomService     0\n",
       "FoodCourt       0\n",
       "ShoppingMall    0\n",
       "Spa             0\n",
       "VRDeck          0\n",
       "dtype: int64"
      ]
     },
     "execution_count": 51,
     "metadata": {},
     "output_type": "execute_result"
    }
   ],
   "source": [
    "#replace with medain since there are outliars\n",
    "    \n",
    "    \n",
    "for feature in numerical_with_na:\n",
    "\n",
    "    median_val=dataset[feature].median()\n",
    "    dataset[feature+\"_Nan\"]=np.where(dataset[feature].isnull(),1,0)\n",
    "    dataset[feature].fillna(median_val,inplace=True)\n",
    "    \n",
    "dataset[numerical_with_na].isnull().sum()    \n",
    "\n",
    "    \n",
    "\n",
    "    "
   ]
  },
  {
   "cell_type": "code",
   "execution_count": 52,
   "id": "b5bd32ac",
   "metadata": {},
   "outputs": [
    {
     "data": {
      "text/html": [
       "<div>\n",
       "<style scoped>\n",
       "    .dataframe tbody tr th:only-of-type {\n",
       "        vertical-align: middle;\n",
       "    }\n",
       "\n",
       "    .dataframe tbody tr th {\n",
       "        vertical-align: top;\n",
       "    }\n",
       "\n",
       "    .dataframe thead th {\n",
       "        text-align: right;\n",
       "    }\n",
       "</style>\n",
       "<table border=\"1\" class=\"dataframe\">\n",
       "  <thead>\n",
       "    <tr style=\"text-align: right;\">\n",
       "      <th></th>\n",
       "      <th>HomePlanet</th>\n",
       "      <th>CryoSleep</th>\n",
       "      <th>Destination</th>\n",
       "      <th>Age</th>\n",
       "      <th>VIP</th>\n",
       "      <th>RoomService</th>\n",
       "      <th>FoodCourt</th>\n",
       "      <th>ShoppingMall</th>\n",
       "      <th>Spa</th>\n",
       "      <th>VRDeck</th>\n",
       "      <th>Transported</th>\n",
       "      <th>Cabin_deck</th>\n",
       "      <th>Cabin_side</th>\n",
       "      <th>Passenger_Group</th>\n",
       "      <th>Age_Nan</th>\n",
       "      <th>RoomService_Nan</th>\n",
       "      <th>FoodCourt_Nan</th>\n",
       "      <th>ShoppingMall_Nan</th>\n",
       "      <th>Spa_Nan</th>\n",
       "      <th>VRDeck_Nan</th>\n",
       "    </tr>\n",
       "  </thead>\n",
       "  <tbody>\n",
       "    <tr>\n",
       "      <th>0</th>\n",
       "      <td>Europa</td>\n",
       "      <td>False</td>\n",
       "      <td>TRAPPIST-1e</td>\n",
       "      <td>39.0</td>\n",
       "      <td>False</td>\n",
       "      <td>0.0</td>\n",
       "      <td>0.0</td>\n",
       "      <td>0.0</td>\n",
       "      <td>0.0</td>\n",
       "      <td>0.0</td>\n",
       "      <td>False</td>\n",
       "      <td>B</td>\n",
       "      <td>P</td>\n",
       "      <td>1</td>\n",
       "      <td>0</td>\n",
       "      <td>0</td>\n",
       "      <td>0</td>\n",
       "      <td>0</td>\n",
       "      <td>0</td>\n",
       "      <td>0</td>\n",
       "    </tr>\n",
       "    <tr>\n",
       "      <th>1</th>\n",
       "      <td>Earth</td>\n",
       "      <td>False</td>\n",
       "      <td>TRAPPIST-1e</td>\n",
       "      <td>24.0</td>\n",
       "      <td>False</td>\n",
       "      <td>109.0</td>\n",
       "      <td>9.0</td>\n",
       "      <td>25.0</td>\n",
       "      <td>549.0</td>\n",
       "      <td>44.0</td>\n",
       "      <td>True</td>\n",
       "      <td>F</td>\n",
       "      <td>S</td>\n",
       "      <td>2</td>\n",
       "      <td>0</td>\n",
       "      <td>0</td>\n",
       "      <td>0</td>\n",
       "      <td>0</td>\n",
       "      <td>0</td>\n",
       "      <td>0</td>\n",
       "    </tr>\n",
       "    <tr>\n",
       "      <th>2</th>\n",
       "      <td>Europa</td>\n",
       "      <td>False</td>\n",
       "      <td>TRAPPIST-1e</td>\n",
       "      <td>58.0</td>\n",
       "      <td>True</td>\n",
       "      <td>43.0</td>\n",
       "      <td>3576.0</td>\n",
       "      <td>0.0</td>\n",
       "      <td>6715.0</td>\n",
       "      <td>49.0</td>\n",
       "      <td>False</td>\n",
       "      <td>A</td>\n",
       "      <td>S</td>\n",
       "      <td>3</td>\n",
       "      <td>0</td>\n",
       "      <td>0</td>\n",
       "      <td>0</td>\n",
       "      <td>0</td>\n",
       "      <td>0</td>\n",
       "      <td>0</td>\n",
       "    </tr>\n",
       "    <tr>\n",
       "      <th>3</th>\n",
       "      <td>Europa</td>\n",
       "      <td>False</td>\n",
       "      <td>TRAPPIST-1e</td>\n",
       "      <td>33.0</td>\n",
       "      <td>False</td>\n",
       "      <td>0.0</td>\n",
       "      <td>1283.0</td>\n",
       "      <td>371.0</td>\n",
       "      <td>3329.0</td>\n",
       "      <td>193.0</td>\n",
       "      <td>False</td>\n",
       "      <td>A</td>\n",
       "      <td>S</td>\n",
       "      <td>3</td>\n",
       "      <td>0</td>\n",
       "      <td>0</td>\n",
       "      <td>0</td>\n",
       "      <td>0</td>\n",
       "      <td>0</td>\n",
       "      <td>0</td>\n",
       "    </tr>\n",
       "    <tr>\n",
       "      <th>4</th>\n",
       "      <td>Earth</td>\n",
       "      <td>False</td>\n",
       "      <td>TRAPPIST-1e</td>\n",
       "      <td>16.0</td>\n",
       "      <td>False</td>\n",
       "      <td>303.0</td>\n",
       "      <td>70.0</td>\n",
       "      <td>151.0</td>\n",
       "      <td>565.0</td>\n",
       "      <td>2.0</td>\n",
       "      <td>True</td>\n",
       "      <td>F</td>\n",
       "      <td>S</td>\n",
       "      <td>4</td>\n",
       "      <td>0</td>\n",
       "      <td>0</td>\n",
       "      <td>0</td>\n",
       "      <td>0</td>\n",
       "      <td>0</td>\n",
       "      <td>0</td>\n",
       "    </tr>\n",
       "  </tbody>\n",
       "</table>\n",
       "</div>"
      ],
      "text/plain": [
       "  HomePlanet CryoSleep  Destination   Age    VIP  RoomService  FoodCourt  \\\n",
       "0     Europa     False  TRAPPIST-1e  39.0  False          0.0        0.0   \n",
       "1      Earth     False  TRAPPIST-1e  24.0  False        109.0        9.0   \n",
       "2     Europa     False  TRAPPIST-1e  58.0   True         43.0     3576.0   \n",
       "3     Europa     False  TRAPPIST-1e  33.0  False          0.0     1283.0   \n",
       "4      Earth     False  TRAPPIST-1e  16.0  False        303.0       70.0   \n",
       "\n",
       "   ShoppingMall     Spa  VRDeck  Transported Cabin_deck Cabin_side  \\\n",
       "0           0.0     0.0     0.0        False          B          P   \n",
       "1          25.0   549.0    44.0         True          F          S   \n",
       "2           0.0  6715.0    49.0        False          A          S   \n",
       "3         371.0  3329.0   193.0        False          A          S   \n",
       "4         151.0   565.0     2.0         True          F          S   \n",
       "\n",
       "   Passenger_Group  Age_Nan  RoomService_Nan  FoodCourt_Nan  ShoppingMall_Nan  \\\n",
       "0                1        0                0              0                 0   \n",
       "1                2        0                0              0                 0   \n",
       "2                3        0                0              0                 0   \n",
       "3                3        0                0              0                 0   \n",
       "4                4        0                0              0                 0   \n",
       "\n",
       "   Spa_Nan  VRDeck_Nan  \n",
       "0        0           0  \n",
       "1        0           0  \n",
       "2        0           0  \n",
       "3        0           0  \n",
       "4        0           0  "
      ]
     },
     "execution_count": 52,
     "metadata": {},
     "output_type": "execute_result"
    }
   ],
   "source": [
    "dataset.head()"
   ]
  },
  {
   "cell_type": "code",
   "execution_count": 53,
   "id": "5a6e1036",
   "metadata": {},
   "outputs": [
    {
     "data": {
      "text/plain": [
       "HomePlanet          0\n",
       "CryoSleep           0\n",
       "Destination         0\n",
       "Age                 0\n",
       "VIP                 0\n",
       "RoomService         0\n",
       "FoodCourt           0\n",
       "ShoppingMall        0\n",
       "Spa                 0\n",
       "VRDeck              0\n",
       "Transported         0\n",
       "Cabin_deck          0\n",
       "Cabin_side          0\n",
       "Passenger_Group     0\n",
       "Age_Nan             0\n",
       "RoomService_Nan     0\n",
       "FoodCourt_Nan       0\n",
       "ShoppingMall_Nan    0\n",
       "Spa_Nan             0\n",
       "VRDeck_Nan          0\n",
       "dtype: int64"
      ]
     },
     "execution_count": 53,
     "metadata": {},
     "output_type": "execute_result"
    }
   ],
   "source": [
    "dataset.isnull().sum()"
   ]
  },
  {
   "cell_type": "markdown",
   "id": "5a831958",
   "metadata": {},
   "source": [
    "Now our dataset has no any NaN value!"
   ]
  },
  {
   "cell_type": "markdown",
   "id": "efbc3066",
   "metadata": {},
   "source": [
    "## 3) Continuos Numerical Features(except Age) - Log scaling "
   ]
  },
  {
   "cell_type": "code",
   "execution_count": 54,
   "id": "18d888e0",
   "metadata": {},
   "outputs": [],
   "source": [
    "continuous_features=['RoomService', 'FoodCourt', 'ShoppingMall', 'Spa', 'VRDeck']\n",
    "for feature in continuous_features:\n",
    "    dataset[feature]=np.log(dataset[feature]+1)\n",
    "    "
   ]
  },
  {
   "cell_type": "code",
   "execution_count": 55,
   "id": "77f78f01",
   "metadata": {},
   "outputs": [
    {
     "data": {
      "text/html": [
       "<div>\n",
       "<style scoped>\n",
       "    .dataframe tbody tr th:only-of-type {\n",
       "        vertical-align: middle;\n",
       "    }\n",
       "\n",
       "    .dataframe tbody tr th {\n",
       "        vertical-align: top;\n",
       "    }\n",
       "\n",
       "    .dataframe thead th {\n",
       "        text-align: right;\n",
       "    }\n",
       "</style>\n",
       "<table border=\"1\" class=\"dataframe\">\n",
       "  <thead>\n",
       "    <tr style=\"text-align: right;\">\n",
       "      <th></th>\n",
       "      <th>HomePlanet</th>\n",
       "      <th>CryoSleep</th>\n",
       "      <th>Destination</th>\n",
       "      <th>Age</th>\n",
       "      <th>VIP</th>\n",
       "      <th>RoomService</th>\n",
       "      <th>FoodCourt</th>\n",
       "      <th>ShoppingMall</th>\n",
       "      <th>Spa</th>\n",
       "      <th>VRDeck</th>\n",
       "      <th>Transported</th>\n",
       "      <th>Cabin_deck</th>\n",
       "      <th>Cabin_side</th>\n",
       "      <th>Passenger_Group</th>\n",
       "      <th>Age_Nan</th>\n",
       "      <th>RoomService_Nan</th>\n",
       "      <th>FoodCourt_Nan</th>\n",
       "      <th>ShoppingMall_Nan</th>\n",
       "      <th>Spa_Nan</th>\n",
       "      <th>VRDeck_Nan</th>\n",
       "    </tr>\n",
       "  </thead>\n",
       "  <tbody>\n",
       "    <tr>\n",
       "      <th>0</th>\n",
       "      <td>Europa</td>\n",
       "      <td>False</td>\n",
       "      <td>TRAPPIST-1e</td>\n",
       "      <td>39.0</td>\n",
       "      <td>False</td>\n",
       "      <td>0.000000</td>\n",
       "      <td>0.000000</td>\n",
       "      <td>0.000000</td>\n",
       "      <td>0.000000</td>\n",
       "      <td>0.000000</td>\n",
       "      <td>False</td>\n",
       "      <td>B</td>\n",
       "      <td>P</td>\n",
       "      <td>1</td>\n",
       "      <td>0</td>\n",
       "      <td>0</td>\n",
       "      <td>0</td>\n",
       "      <td>0</td>\n",
       "      <td>0</td>\n",
       "      <td>0</td>\n",
       "    </tr>\n",
       "    <tr>\n",
       "      <th>1</th>\n",
       "      <td>Earth</td>\n",
       "      <td>False</td>\n",
       "      <td>TRAPPIST-1e</td>\n",
       "      <td>24.0</td>\n",
       "      <td>False</td>\n",
       "      <td>4.700480</td>\n",
       "      <td>2.302585</td>\n",
       "      <td>3.258097</td>\n",
       "      <td>6.309918</td>\n",
       "      <td>3.806662</td>\n",
       "      <td>True</td>\n",
       "      <td>F</td>\n",
       "      <td>S</td>\n",
       "      <td>2</td>\n",
       "      <td>0</td>\n",
       "      <td>0</td>\n",
       "      <td>0</td>\n",
       "      <td>0</td>\n",
       "      <td>0</td>\n",
       "      <td>0</td>\n",
       "    </tr>\n",
       "    <tr>\n",
       "      <th>2</th>\n",
       "      <td>Europa</td>\n",
       "      <td>False</td>\n",
       "      <td>TRAPPIST-1e</td>\n",
       "      <td>58.0</td>\n",
       "      <td>True</td>\n",
       "      <td>3.784190</td>\n",
       "      <td>8.182280</td>\n",
       "      <td>0.000000</td>\n",
       "      <td>8.812248</td>\n",
       "      <td>3.912023</td>\n",
       "      <td>False</td>\n",
       "      <td>A</td>\n",
       "      <td>S</td>\n",
       "      <td>3</td>\n",
       "      <td>0</td>\n",
       "      <td>0</td>\n",
       "      <td>0</td>\n",
       "      <td>0</td>\n",
       "      <td>0</td>\n",
       "      <td>0</td>\n",
       "    </tr>\n",
       "    <tr>\n",
       "      <th>3</th>\n",
       "      <td>Europa</td>\n",
       "      <td>False</td>\n",
       "      <td>TRAPPIST-1e</td>\n",
       "      <td>33.0</td>\n",
       "      <td>False</td>\n",
       "      <td>0.000000</td>\n",
       "      <td>7.157735</td>\n",
       "      <td>5.918894</td>\n",
       "      <td>8.110728</td>\n",
       "      <td>5.267858</td>\n",
       "      <td>False</td>\n",
       "      <td>A</td>\n",
       "      <td>S</td>\n",
       "      <td>3</td>\n",
       "      <td>0</td>\n",
       "      <td>0</td>\n",
       "      <td>0</td>\n",
       "      <td>0</td>\n",
       "      <td>0</td>\n",
       "      <td>0</td>\n",
       "    </tr>\n",
       "    <tr>\n",
       "      <th>4</th>\n",
       "      <td>Earth</td>\n",
       "      <td>False</td>\n",
       "      <td>TRAPPIST-1e</td>\n",
       "      <td>16.0</td>\n",
       "      <td>False</td>\n",
       "      <td>5.717028</td>\n",
       "      <td>4.262680</td>\n",
       "      <td>5.023881</td>\n",
       "      <td>6.338594</td>\n",
       "      <td>1.098612</td>\n",
       "      <td>True</td>\n",
       "      <td>F</td>\n",
       "      <td>S</td>\n",
       "      <td>4</td>\n",
       "      <td>0</td>\n",
       "      <td>0</td>\n",
       "      <td>0</td>\n",
       "      <td>0</td>\n",
       "      <td>0</td>\n",
       "      <td>0</td>\n",
       "    </tr>\n",
       "  </tbody>\n",
       "</table>\n",
       "</div>"
      ],
      "text/plain": [
       "  HomePlanet CryoSleep  Destination   Age    VIP  RoomService  FoodCourt  \\\n",
       "0     Europa     False  TRAPPIST-1e  39.0  False     0.000000   0.000000   \n",
       "1      Earth     False  TRAPPIST-1e  24.0  False     4.700480   2.302585   \n",
       "2     Europa     False  TRAPPIST-1e  58.0   True     3.784190   8.182280   \n",
       "3     Europa     False  TRAPPIST-1e  33.0  False     0.000000   7.157735   \n",
       "4      Earth     False  TRAPPIST-1e  16.0  False     5.717028   4.262680   \n",
       "\n",
       "   ShoppingMall       Spa    VRDeck  Transported Cabin_deck Cabin_side  \\\n",
       "0      0.000000  0.000000  0.000000        False          B          P   \n",
       "1      3.258097  6.309918  3.806662         True          F          S   \n",
       "2      0.000000  8.812248  3.912023        False          A          S   \n",
       "3      5.918894  8.110728  5.267858        False          A          S   \n",
       "4      5.023881  6.338594  1.098612         True          F          S   \n",
       "\n",
       "   Passenger_Group  Age_Nan  RoomService_Nan  FoodCourt_Nan  ShoppingMall_Nan  \\\n",
       "0                1        0                0              0                 0   \n",
       "1                2        0                0              0                 0   \n",
       "2                3        0                0              0                 0   \n",
       "3                3        0                0              0                 0   \n",
       "4                4        0                0              0                 0   \n",
       "\n",
       "   Spa_Nan  VRDeck_Nan  \n",
       "0        0           0  \n",
       "1        0           0  \n",
       "2        0           0  \n",
       "3        0           0  \n",
       "4        0           0  "
      ]
     },
     "execution_count": 55,
     "metadata": {},
     "output_type": "execute_result"
    }
   ],
   "source": [
    "dataset.head()"
   ]
  },
  {
   "cell_type": "markdown",
   "id": "a6e5ce44",
   "metadata": {},
   "source": [
    "## 4) Handling Rare Categorical Features"
   ]
  },
  {
   "cell_type": "code",
   "execution_count": 56,
   "id": "967d088c",
   "metadata": {},
   "outputs": [
    {
     "name": "stdout",
     "output_type": "stream",
     "text": [
      "['HomePlanet', 'CryoSleep', 'Destination', 'VIP', 'Cabin_deck', 'Cabin_side']\n"
     ]
    }
   ],
   "source": [
    "categorical_features=[feature for feature in dataset.columns if dataset[feature].dtypes==\"O\"]\n",
    "print(categorical_features)\n",
    "for feature in categorical_features:\n",
    "    temp=dataset.groupby(feature)['Transported'].count()/len(dataset)\n",
    "    temp_df=temp[temp>0.01].index\n",
    "    dataset[feature]=np.where(dataset[feature].isin(temp_df),dataset[feature],'Rare_var')\n",
    " "
   ]
  },
  {
   "cell_type": "markdown",
   "id": "2e00f0b4",
   "metadata": {},
   "source": [
    "## 5) Encoding categorical features"
   ]
  },
  {
   "cell_type": "code",
   "execution_count": 57,
   "id": "3de2c4ab",
   "metadata": {},
   "outputs": [],
   "source": [
    "encorder={}\n",
    "for feature in categorical_features+[\"Transported\"]:\n",
    "    labels_ordered=dataset.groupby([feature])['Transported'].mean().sort_values().index\n",
    "    labels_ordered={k:i for i,k in enumerate(labels_ordered,0)}\n",
    "    encorder[feature]=labels_ordered\n",
    "    dataset[feature]=dataset[feature].map(labels_ordered)"
   ]
  },
  {
   "cell_type": "code",
   "execution_count": 58,
   "id": "d7a610d4",
   "metadata": {},
   "outputs": [
    {
     "name": "stdout",
     "output_type": "stream",
     "text": [
      "{'HomePlanet': {'Earth': 0, 'Missing': 1, 'Mars': 2, 'Europa': 3}, 'CryoSleep': {False: 0, 'Missing': 1, True: 2}, 'Destination': {'TRAPPIST-1e': 0, 'PSO J318.5-22': 1, 'Missing': 2, '55 Cancri e': 3}, 'VIP': {True: 0, False: 1, 'Missing': 2}, 'Cabin_deck': {'Rare_var': 0, 'E': 1, 'D': 2, 'F': 3, 'A': 4, 'Missing': 5, 'G': 6, 'C': 7, 'B': 8}, 'Cabin_side': {'P': 0, 'Missing': 1, 'S': 2}, 'Transported': {False: 0, True: 1}}\n"
     ]
    }
   ],
   "source": [
    "print(encorder)"
   ]
  },
  {
   "cell_type": "code",
   "execution_count": 59,
   "id": "7c5f9258",
   "metadata": {},
   "outputs": [
    {
     "data": {
      "text/html": [
       "<div>\n",
       "<style scoped>\n",
       "    .dataframe tbody tr th:only-of-type {\n",
       "        vertical-align: middle;\n",
       "    }\n",
       "\n",
       "    .dataframe tbody tr th {\n",
       "        vertical-align: top;\n",
       "    }\n",
       "\n",
       "    .dataframe thead th {\n",
       "        text-align: right;\n",
       "    }\n",
       "</style>\n",
       "<table border=\"1\" class=\"dataframe\">\n",
       "  <thead>\n",
       "    <tr style=\"text-align: right;\">\n",
       "      <th></th>\n",
       "      <th>HomePlanet</th>\n",
       "      <th>CryoSleep</th>\n",
       "      <th>Destination</th>\n",
       "      <th>Age</th>\n",
       "      <th>VIP</th>\n",
       "      <th>RoomService</th>\n",
       "      <th>FoodCourt</th>\n",
       "      <th>ShoppingMall</th>\n",
       "      <th>Spa</th>\n",
       "      <th>VRDeck</th>\n",
       "      <th>Transported</th>\n",
       "      <th>Cabin_deck</th>\n",
       "      <th>Cabin_side</th>\n",
       "      <th>Passenger_Group</th>\n",
       "      <th>Age_Nan</th>\n",
       "      <th>RoomService_Nan</th>\n",
       "      <th>FoodCourt_Nan</th>\n",
       "      <th>ShoppingMall_Nan</th>\n",
       "      <th>Spa_Nan</th>\n",
       "      <th>VRDeck_Nan</th>\n",
       "    </tr>\n",
       "  </thead>\n",
       "  <tbody>\n",
       "    <tr>\n",
       "      <th>0</th>\n",
       "      <td>3</td>\n",
       "      <td>0</td>\n",
       "      <td>0</td>\n",
       "      <td>39.0</td>\n",
       "      <td>1</td>\n",
       "      <td>0.000000</td>\n",
       "      <td>0.000000</td>\n",
       "      <td>0.000000</td>\n",
       "      <td>0.000000</td>\n",
       "      <td>0.000000</td>\n",
       "      <td>0</td>\n",
       "      <td>8</td>\n",
       "      <td>0</td>\n",
       "      <td>1</td>\n",
       "      <td>0</td>\n",
       "      <td>0</td>\n",
       "      <td>0</td>\n",
       "      <td>0</td>\n",
       "      <td>0</td>\n",
       "      <td>0</td>\n",
       "    </tr>\n",
       "    <tr>\n",
       "      <th>1</th>\n",
       "      <td>0</td>\n",
       "      <td>0</td>\n",
       "      <td>0</td>\n",
       "      <td>24.0</td>\n",
       "      <td>1</td>\n",
       "      <td>4.700480</td>\n",
       "      <td>2.302585</td>\n",
       "      <td>3.258097</td>\n",
       "      <td>6.309918</td>\n",
       "      <td>3.806662</td>\n",
       "      <td>1</td>\n",
       "      <td>3</td>\n",
       "      <td>2</td>\n",
       "      <td>2</td>\n",
       "      <td>0</td>\n",
       "      <td>0</td>\n",
       "      <td>0</td>\n",
       "      <td>0</td>\n",
       "      <td>0</td>\n",
       "      <td>0</td>\n",
       "    </tr>\n",
       "    <tr>\n",
       "      <th>2</th>\n",
       "      <td>3</td>\n",
       "      <td>0</td>\n",
       "      <td>0</td>\n",
       "      <td>58.0</td>\n",
       "      <td>0</td>\n",
       "      <td>3.784190</td>\n",
       "      <td>8.182280</td>\n",
       "      <td>0.000000</td>\n",
       "      <td>8.812248</td>\n",
       "      <td>3.912023</td>\n",
       "      <td>0</td>\n",
       "      <td>4</td>\n",
       "      <td>2</td>\n",
       "      <td>3</td>\n",
       "      <td>0</td>\n",
       "      <td>0</td>\n",
       "      <td>0</td>\n",
       "      <td>0</td>\n",
       "      <td>0</td>\n",
       "      <td>0</td>\n",
       "    </tr>\n",
       "    <tr>\n",
       "      <th>3</th>\n",
       "      <td>3</td>\n",
       "      <td>0</td>\n",
       "      <td>0</td>\n",
       "      <td>33.0</td>\n",
       "      <td>1</td>\n",
       "      <td>0.000000</td>\n",
       "      <td>7.157735</td>\n",
       "      <td>5.918894</td>\n",
       "      <td>8.110728</td>\n",
       "      <td>5.267858</td>\n",
       "      <td>0</td>\n",
       "      <td>4</td>\n",
       "      <td>2</td>\n",
       "      <td>3</td>\n",
       "      <td>0</td>\n",
       "      <td>0</td>\n",
       "      <td>0</td>\n",
       "      <td>0</td>\n",
       "      <td>0</td>\n",
       "      <td>0</td>\n",
       "    </tr>\n",
       "    <tr>\n",
       "      <th>4</th>\n",
       "      <td>0</td>\n",
       "      <td>0</td>\n",
       "      <td>0</td>\n",
       "      <td>16.0</td>\n",
       "      <td>1</td>\n",
       "      <td>5.717028</td>\n",
       "      <td>4.262680</td>\n",
       "      <td>5.023881</td>\n",
       "      <td>6.338594</td>\n",
       "      <td>1.098612</td>\n",
       "      <td>1</td>\n",
       "      <td>3</td>\n",
       "      <td>2</td>\n",
       "      <td>4</td>\n",
       "      <td>0</td>\n",
       "      <td>0</td>\n",
       "      <td>0</td>\n",
       "      <td>0</td>\n",
       "      <td>0</td>\n",
       "      <td>0</td>\n",
       "    </tr>\n",
       "  </tbody>\n",
       "</table>\n",
       "</div>"
      ],
      "text/plain": [
       "   HomePlanet  CryoSleep  Destination   Age  VIP  RoomService  FoodCourt  \\\n",
       "0           3          0            0  39.0    1     0.000000   0.000000   \n",
       "1           0          0            0  24.0    1     4.700480   2.302585   \n",
       "2           3          0            0  58.0    0     3.784190   8.182280   \n",
       "3           3          0            0  33.0    1     0.000000   7.157735   \n",
       "4           0          0            0  16.0    1     5.717028   4.262680   \n",
       "\n",
       "   ShoppingMall       Spa    VRDeck  Transported  Cabin_deck  Cabin_side  \\\n",
       "0      0.000000  0.000000  0.000000            0           8           0   \n",
       "1      3.258097  6.309918  3.806662            1           3           2   \n",
       "2      0.000000  8.812248  3.912023            0           4           2   \n",
       "3      5.918894  8.110728  5.267858            0           4           2   \n",
       "4      5.023881  6.338594  1.098612            1           3           2   \n",
       "\n",
       "   Passenger_Group  Age_Nan  RoomService_Nan  FoodCourt_Nan  ShoppingMall_Nan  \\\n",
       "0                1        0                0              0                 0   \n",
       "1                2        0                0              0                 0   \n",
       "2                3        0                0              0                 0   \n",
       "3                3        0                0              0                 0   \n",
       "4                4        0                0              0                 0   \n",
       "\n",
       "   Spa_Nan  VRDeck_Nan  \n",
       "0        0           0  \n",
       "1        0           0  \n",
       "2        0           0  \n",
       "3        0           0  \n",
       "4        0           0  "
      ]
     },
     "execution_count": 59,
     "metadata": {},
     "output_type": "execute_result"
    }
   ],
   "source": [
    "dataset.head()"
   ]
  },
  {
   "cell_type": "code",
   "execution_count": 60,
   "id": "b401afd2",
   "metadata": {},
   "outputs": [
    {
     "data": {
      "text/plain": [
       "(8693, 20)"
      ]
     },
     "execution_count": 60,
     "metadata": {},
     "output_type": "execute_result"
    }
   ],
   "source": [
    "dataset.shape"
   ]
  },
  {
   "cell_type": "markdown",
   "id": "4ef850a6",
   "metadata": {},
   "source": [
    "## 5) Scaling "
   ]
  },
  {
   "cell_type": "code",
   "execution_count": 61,
   "id": "8cbed776",
   "metadata": {},
   "outputs": [],
   "source": [
    "scale_features=[feature for feature in dataset.columns if feature not in [\"Transported\"]]\n",
    "\n",
    "from sklearn.preprocessing import MinMaxScaler\n",
    "\n",
    "scaler=MinMaxScaler()\n",
    "dataset[scale_features]=scaler.fit_transform(dataset[scale_features])\n",
    "    \n"
   ]
  },
  {
   "cell_type": "code",
   "execution_count": 62,
   "id": "13204b57",
   "metadata": {},
   "outputs": [
    {
     "data": {
      "text/plain": [
       "(8693, 20)"
      ]
     },
     "execution_count": 62,
     "metadata": {},
     "output_type": "execute_result"
    }
   ],
   "source": [
    "dataset.shape"
   ]
  },
  {
   "cell_type": "code",
   "execution_count": 63,
   "id": "538cdcd8",
   "metadata": {},
   "outputs": [
    {
     "data": {
      "text/html": [
       "<div>\n",
       "<style scoped>\n",
       "    .dataframe tbody tr th:only-of-type {\n",
       "        vertical-align: middle;\n",
       "    }\n",
       "\n",
       "    .dataframe tbody tr th {\n",
       "        vertical-align: top;\n",
       "    }\n",
       "\n",
       "    .dataframe thead th {\n",
       "        text-align: right;\n",
       "    }\n",
       "</style>\n",
       "<table border=\"1\" class=\"dataframe\">\n",
       "  <thead>\n",
       "    <tr style=\"text-align: right;\">\n",
       "      <th></th>\n",
       "      <th>HomePlanet</th>\n",
       "      <th>CryoSleep</th>\n",
       "      <th>Destination</th>\n",
       "      <th>Age</th>\n",
       "      <th>VIP</th>\n",
       "      <th>RoomService</th>\n",
       "      <th>FoodCourt</th>\n",
       "      <th>ShoppingMall</th>\n",
       "      <th>Spa</th>\n",
       "      <th>VRDeck</th>\n",
       "      <th>Transported</th>\n",
       "      <th>Cabin_deck</th>\n",
       "      <th>Cabin_side</th>\n",
       "      <th>Passenger_Group</th>\n",
       "      <th>Age_Nan</th>\n",
       "      <th>RoomService_Nan</th>\n",
       "      <th>FoodCourt_Nan</th>\n",
       "      <th>ShoppingMall_Nan</th>\n",
       "      <th>Spa_Nan</th>\n",
       "      <th>VRDeck_Nan</th>\n",
       "    </tr>\n",
       "  </thead>\n",
       "  <tbody>\n",
       "    <tr>\n",
       "      <th>0</th>\n",
       "      <td>1.0</td>\n",
       "      <td>0.0</td>\n",
       "      <td>0.0</td>\n",
       "      <td>0.493671</td>\n",
       "      <td>0.5</td>\n",
       "      <td>0.000000</td>\n",
       "      <td>0.000000</td>\n",
       "      <td>0.000000</td>\n",
       "      <td>0.000000</td>\n",
       "      <td>0.000000</td>\n",
       "      <td>0</td>\n",
       "      <td>1.000</td>\n",
       "      <td>0.0</td>\n",
       "      <td>0.000000</td>\n",
       "      <td>0.0</td>\n",
       "      <td>0.0</td>\n",
       "      <td>0.0</td>\n",
       "      <td>0.0</td>\n",
       "      <td>0.0</td>\n",
       "      <td>0.0</td>\n",
       "    </tr>\n",
       "    <tr>\n",
       "      <th>1</th>\n",
       "      <td>0.0</td>\n",
       "      <td>0.0</td>\n",
       "      <td>0.0</td>\n",
       "      <td>0.303797</td>\n",
       "      <td>0.5</td>\n",
       "      <td>0.491170</td>\n",
       "      <td>0.223493</td>\n",
       "      <td>0.323723</td>\n",
       "      <td>0.629907</td>\n",
       "      <td>0.377219</td>\n",
       "      <td>1</td>\n",
       "      <td>0.375</td>\n",
       "      <td>1.0</td>\n",
       "      <td>0.000108</td>\n",
       "      <td>0.0</td>\n",
       "      <td>0.0</td>\n",
       "      <td>0.0</td>\n",
       "      <td>0.0</td>\n",
       "      <td>0.0</td>\n",
       "      <td>0.0</td>\n",
       "    </tr>\n",
       "    <tr>\n",
       "      <th>2</th>\n",
       "      <td>1.0</td>\n",
       "      <td>0.0</td>\n",
       "      <td>0.0</td>\n",
       "      <td>0.734177</td>\n",
       "      <td>0.0</td>\n",
       "      <td>0.395423</td>\n",
       "      <td>0.794185</td>\n",
       "      <td>0.000000</td>\n",
       "      <td>0.879710</td>\n",
       "      <td>0.387660</td>\n",
       "      <td>0</td>\n",
       "      <td>0.500</td>\n",
       "      <td>1.0</td>\n",
       "      <td>0.000216</td>\n",
       "      <td>0.0</td>\n",
       "      <td>0.0</td>\n",
       "      <td>0.0</td>\n",
       "      <td>0.0</td>\n",
       "      <td>0.0</td>\n",
       "      <td>0.0</td>\n",
       "    </tr>\n",
       "    <tr>\n",
       "      <th>3</th>\n",
       "      <td>1.0</td>\n",
       "      <td>0.0</td>\n",
       "      <td>0.0</td>\n",
       "      <td>0.417722</td>\n",
       "      <td>0.5</td>\n",
       "      <td>0.000000</td>\n",
       "      <td>0.694741</td>\n",
       "      <td>0.588099</td>\n",
       "      <td>0.809679</td>\n",
       "      <td>0.522016</td>\n",
       "      <td>0</td>\n",
       "      <td>0.500</td>\n",
       "      <td>1.0</td>\n",
       "      <td>0.000216</td>\n",
       "      <td>0.0</td>\n",
       "      <td>0.0</td>\n",
       "      <td>0.0</td>\n",
       "      <td>0.0</td>\n",
       "      <td>0.0</td>\n",
       "      <td>0.0</td>\n",
       "    </tr>\n",
       "    <tr>\n",
       "      <th>4</th>\n",
       "      <td>0.0</td>\n",
       "      <td>0.0</td>\n",
       "      <td>0.0</td>\n",
       "      <td>0.202532</td>\n",
       "      <td>0.5</td>\n",
       "      <td>0.597392</td>\n",
       "      <td>0.413743</td>\n",
       "      <td>0.499171</td>\n",
       "      <td>0.632770</td>\n",
       "      <td>0.108866</td>\n",
       "      <td>1</td>\n",
       "      <td>0.375</td>\n",
       "      <td>1.0</td>\n",
       "      <td>0.000323</td>\n",
       "      <td>0.0</td>\n",
       "      <td>0.0</td>\n",
       "      <td>0.0</td>\n",
       "      <td>0.0</td>\n",
       "      <td>0.0</td>\n",
       "      <td>0.0</td>\n",
       "    </tr>\n",
       "  </tbody>\n",
       "</table>\n",
       "</div>"
      ],
      "text/plain": [
       "   HomePlanet  CryoSleep  Destination       Age  VIP  RoomService  FoodCourt  \\\n",
       "0         1.0        0.0          0.0  0.493671  0.5     0.000000   0.000000   \n",
       "1         0.0        0.0          0.0  0.303797  0.5     0.491170   0.223493   \n",
       "2         1.0        0.0          0.0  0.734177  0.0     0.395423   0.794185   \n",
       "3         1.0        0.0          0.0  0.417722  0.5     0.000000   0.694741   \n",
       "4         0.0        0.0          0.0  0.202532  0.5     0.597392   0.413743   \n",
       "\n",
       "   ShoppingMall       Spa    VRDeck  Transported  Cabin_deck  Cabin_side  \\\n",
       "0      0.000000  0.000000  0.000000            0       1.000         0.0   \n",
       "1      0.323723  0.629907  0.377219            1       0.375         1.0   \n",
       "2      0.000000  0.879710  0.387660            0       0.500         1.0   \n",
       "3      0.588099  0.809679  0.522016            0       0.500         1.0   \n",
       "4      0.499171  0.632770  0.108866            1       0.375         1.0   \n",
       "\n",
       "   Passenger_Group  Age_Nan  RoomService_Nan  FoodCourt_Nan  ShoppingMall_Nan  \\\n",
       "0         0.000000      0.0              0.0            0.0               0.0   \n",
       "1         0.000108      0.0              0.0            0.0               0.0   \n",
       "2         0.000216      0.0              0.0            0.0               0.0   \n",
       "3         0.000216      0.0              0.0            0.0               0.0   \n",
       "4         0.000323      0.0              0.0            0.0               0.0   \n",
       "\n",
       "   Spa_Nan  VRDeck_Nan  \n",
       "0      0.0         0.0  \n",
       "1      0.0         0.0  \n",
       "2      0.0         0.0  \n",
       "3      0.0         0.0  \n",
       "4      0.0         0.0  "
      ]
     },
     "execution_count": 63,
     "metadata": {},
     "output_type": "execute_result"
    }
   ],
   "source": [
    "dataset.head()"
   ]
  },
  {
   "cell_type": "markdown",
   "id": "7e18337d",
   "metadata": {},
   "source": [
    "## Save data"
   ]
  },
  {
   "cell_type": "code",
   "execution_count": 64,
   "id": "fcf51370",
   "metadata": {},
   "outputs": [],
   "source": [
    "dataset.to_csv(\"X_train.csv\",index=False)\n"
   ]
  },
  {
   "cell_type": "code",
   "execution_count": 65,
   "id": "200f6be8",
   "metadata": {},
   "outputs": [
    {
     "data": {
      "text/plain": [
       "0       0\n",
       "1       1\n",
       "2       0\n",
       "3       0\n",
       "4       1\n",
       "       ..\n",
       "8688    0\n",
       "8689    0\n",
       "8690    1\n",
       "8691    0\n",
       "8692    1\n",
       "Name: Transported, Length: 8693, dtype: int64"
      ]
     },
     "execution_count": 65,
     "metadata": {},
     "output_type": "execute_result"
    }
   ],
   "source": [
    "## Capture the dependent feature\n",
    "y_train=dataset[\"Transported\"]\n",
    "y_train"
   ]
  },
  {
   "cell_type": "code",
   "execution_count": 66,
   "id": "d1f2572e",
   "metadata": {},
   "outputs": [],
   "source": [
    "## drop dependent feature from dataset\n",
    "X_train=dataset.drop([\"Transported\"],axis=1)"
   ]
  },
  {
   "cell_type": "code",
   "execution_count": 67,
   "id": "eec181f3",
   "metadata": {},
   "outputs": [
    {
     "data": {
      "text/html": [
       "<div>\n",
       "<style scoped>\n",
       "    .dataframe tbody tr th:only-of-type {\n",
       "        vertical-align: middle;\n",
       "    }\n",
       "\n",
       "    .dataframe tbody tr th {\n",
       "        vertical-align: top;\n",
       "    }\n",
       "\n",
       "    .dataframe thead th {\n",
       "        text-align: right;\n",
       "    }\n",
       "</style>\n",
       "<table border=\"1\" class=\"dataframe\">\n",
       "  <thead>\n",
       "    <tr style=\"text-align: right;\">\n",
       "      <th></th>\n",
       "      <th>HomePlanet</th>\n",
       "      <th>CryoSleep</th>\n",
       "      <th>Destination</th>\n",
       "      <th>Age</th>\n",
       "      <th>VIP</th>\n",
       "      <th>RoomService</th>\n",
       "      <th>FoodCourt</th>\n",
       "      <th>ShoppingMall</th>\n",
       "      <th>Spa</th>\n",
       "      <th>VRDeck</th>\n",
       "      <th>Cabin_deck</th>\n",
       "      <th>Cabin_side</th>\n",
       "      <th>Passenger_Group</th>\n",
       "      <th>Age_Nan</th>\n",
       "      <th>RoomService_Nan</th>\n",
       "      <th>FoodCourt_Nan</th>\n",
       "      <th>ShoppingMall_Nan</th>\n",
       "      <th>Spa_Nan</th>\n",
       "      <th>VRDeck_Nan</th>\n",
       "    </tr>\n",
       "  </thead>\n",
       "  <tbody>\n",
       "    <tr>\n",
       "      <th>0</th>\n",
       "      <td>1.0</td>\n",
       "      <td>0.0</td>\n",
       "      <td>0.000000</td>\n",
       "      <td>0.493671</td>\n",
       "      <td>0.5</td>\n",
       "      <td>0.000000</td>\n",
       "      <td>0.000000</td>\n",
       "      <td>0.000000</td>\n",
       "      <td>0.000000</td>\n",
       "      <td>0.000000</td>\n",
       "      <td>1.000</td>\n",
       "      <td>0.0</td>\n",
       "      <td>0.000000</td>\n",
       "      <td>0.0</td>\n",
       "      <td>0.0</td>\n",
       "      <td>0.0</td>\n",
       "      <td>0.0</td>\n",
       "      <td>0.0</td>\n",
       "      <td>0.0</td>\n",
       "    </tr>\n",
       "    <tr>\n",
       "      <th>1</th>\n",
       "      <td>0.0</td>\n",
       "      <td>0.0</td>\n",
       "      <td>0.000000</td>\n",
       "      <td>0.303797</td>\n",
       "      <td>0.5</td>\n",
       "      <td>0.491170</td>\n",
       "      <td>0.223493</td>\n",
       "      <td>0.323723</td>\n",
       "      <td>0.629907</td>\n",
       "      <td>0.377219</td>\n",
       "      <td>0.375</td>\n",
       "      <td>1.0</td>\n",
       "      <td>0.000108</td>\n",
       "      <td>0.0</td>\n",
       "      <td>0.0</td>\n",
       "      <td>0.0</td>\n",
       "      <td>0.0</td>\n",
       "      <td>0.0</td>\n",
       "      <td>0.0</td>\n",
       "    </tr>\n",
       "    <tr>\n",
       "      <th>2</th>\n",
       "      <td>1.0</td>\n",
       "      <td>0.0</td>\n",
       "      <td>0.000000</td>\n",
       "      <td>0.734177</td>\n",
       "      <td>0.0</td>\n",
       "      <td>0.395423</td>\n",
       "      <td>0.794185</td>\n",
       "      <td>0.000000</td>\n",
       "      <td>0.879710</td>\n",
       "      <td>0.387660</td>\n",
       "      <td>0.500</td>\n",
       "      <td>1.0</td>\n",
       "      <td>0.000216</td>\n",
       "      <td>0.0</td>\n",
       "      <td>0.0</td>\n",
       "      <td>0.0</td>\n",
       "      <td>0.0</td>\n",
       "      <td>0.0</td>\n",
       "      <td>0.0</td>\n",
       "    </tr>\n",
       "    <tr>\n",
       "      <th>3</th>\n",
       "      <td>1.0</td>\n",
       "      <td>0.0</td>\n",
       "      <td>0.000000</td>\n",
       "      <td>0.417722</td>\n",
       "      <td>0.5</td>\n",
       "      <td>0.000000</td>\n",
       "      <td>0.694741</td>\n",
       "      <td>0.588099</td>\n",
       "      <td>0.809679</td>\n",
       "      <td>0.522016</td>\n",
       "      <td>0.500</td>\n",
       "      <td>1.0</td>\n",
       "      <td>0.000216</td>\n",
       "      <td>0.0</td>\n",
       "      <td>0.0</td>\n",
       "      <td>0.0</td>\n",
       "      <td>0.0</td>\n",
       "      <td>0.0</td>\n",
       "      <td>0.0</td>\n",
       "    </tr>\n",
       "    <tr>\n",
       "      <th>4</th>\n",
       "      <td>0.0</td>\n",
       "      <td>0.0</td>\n",
       "      <td>0.000000</td>\n",
       "      <td>0.202532</td>\n",
       "      <td>0.5</td>\n",
       "      <td>0.597392</td>\n",
       "      <td>0.413743</td>\n",
       "      <td>0.499171</td>\n",
       "      <td>0.632770</td>\n",
       "      <td>0.108866</td>\n",
       "      <td>0.375</td>\n",
       "      <td>1.0</td>\n",
       "      <td>0.000323</td>\n",
       "      <td>0.0</td>\n",
       "      <td>0.0</td>\n",
       "      <td>0.0</td>\n",
       "      <td>0.0</td>\n",
       "      <td>0.0</td>\n",
       "      <td>0.0</td>\n",
       "    </tr>\n",
       "    <tr>\n",
       "      <th>...</th>\n",
       "      <td>...</td>\n",
       "      <td>...</td>\n",
       "      <td>...</td>\n",
       "      <td>...</td>\n",
       "      <td>...</td>\n",
       "      <td>...</td>\n",
       "      <td>...</td>\n",
       "      <td>...</td>\n",
       "      <td>...</td>\n",
       "      <td>...</td>\n",
       "      <td>...</td>\n",
       "      <td>...</td>\n",
       "      <td>...</td>\n",
       "      <td>...</td>\n",
       "      <td>...</td>\n",
       "      <td>...</td>\n",
       "      <td>...</td>\n",
       "      <td>...</td>\n",
       "      <td>...</td>\n",
       "    </tr>\n",
       "    <tr>\n",
       "      <th>8688</th>\n",
       "      <td>1.0</td>\n",
       "      <td>0.0</td>\n",
       "      <td>1.000000</td>\n",
       "      <td>0.518987</td>\n",
       "      <td>0.0</td>\n",
       "      <td>0.000000</td>\n",
       "      <td>0.856823</td>\n",
       "      <td>0.000000</td>\n",
       "      <td>0.739216</td>\n",
       "      <td>0.427839</td>\n",
       "      <td>0.500</td>\n",
       "      <td>0.0</td>\n",
       "      <td>0.999569</td>\n",
       "      <td>0.0</td>\n",
       "      <td>0.0</td>\n",
       "      <td>0.0</td>\n",
       "      <td>0.0</td>\n",
       "      <td>0.0</td>\n",
       "      <td>0.0</td>\n",
       "    </tr>\n",
       "    <tr>\n",
       "      <th>8689</th>\n",
       "      <td>0.0</td>\n",
       "      <td>1.0</td>\n",
       "      <td>0.333333</td>\n",
       "      <td>0.227848</td>\n",
       "      <td>0.5</td>\n",
       "      <td>0.000000</td>\n",
       "      <td>0.000000</td>\n",
       "      <td>0.000000</td>\n",
       "      <td>0.000000</td>\n",
       "      <td>0.000000</td>\n",
       "      <td>0.750</td>\n",
       "      <td>1.0</td>\n",
       "      <td>0.999784</td>\n",
       "      <td>0.0</td>\n",
       "      <td>0.0</td>\n",
       "      <td>0.0</td>\n",
       "      <td>0.0</td>\n",
       "      <td>0.0</td>\n",
       "      <td>0.0</td>\n",
       "    </tr>\n",
       "    <tr>\n",
       "      <th>8690</th>\n",
       "      <td>0.0</td>\n",
       "      <td>0.0</td>\n",
       "      <td>0.000000</td>\n",
       "      <td>0.329114</td>\n",
       "      <td>0.5</td>\n",
       "      <td>0.000000</td>\n",
       "      <td>0.000000</td>\n",
       "      <td>0.748704</td>\n",
       "      <td>0.069196</td>\n",
       "      <td>0.000000</td>\n",
       "      <td>0.750</td>\n",
       "      <td>1.0</td>\n",
       "      <td>0.999892</td>\n",
       "      <td>0.0</td>\n",
       "      <td>0.0</td>\n",
       "      <td>0.0</td>\n",
       "      <td>0.0</td>\n",
       "      <td>0.0</td>\n",
       "      <td>0.0</td>\n",
       "    </tr>\n",
       "    <tr>\n",
       "      <th>8691</th>\n",
       "      <td>1.0</td>\n",
       "      <td>0.0</td>\n",
       "      <td>1.000000</td>\n",
       "      <td>0.405063</td>\n",
       "      <td>0.5</td>\n",
       "      <td>0.000000</td>\n",
       "      <td>0.675214</td>\n",
       "      <td>0.000000</td>\n",
       "      <td>0.585921</td>\n",
       "      <td>0.800891</td>\n",
       "      <td>0.125</td>\n",
       "      <td>1.0</td>\n",
       "      <td>1.000000</td>\n",
       "      <td>0.0</td>\n",
       "      <td>0.0</td>\n",
       "      <td>0.0</td>\n",
       "      <td>0.0</td>\n",
       "      <td>0.0</td>\n",
       "      <td>0.0</td>\n",
       "    </tr>\n",
       "    <tr>\n",
       "      <th>8692</th>\n",
       "      <td>1.0</td>\n",
       "      <td>0.0</td>\n",
       "      <td>0.000000</td>\n",
       "      <td>0.556962</td>\n",
       "      <td>0.5</td>\n",
       "      <td>0.506186</td>\n",
       "      <td>0.820459</td>\n",
       "      <td>0.000000</td>\n",
       "      <td>0.000000</td>\n",
       "      <td>0.254172</td>\n",
       "      <td>0.125</td>\n",
       "      <td>1.0</td>\n",
       "      <td>1.000000</td>\n",
       "      <td>0.0</td>\n",
       "      <td>0.0</td>\n",
       "      <td>0.0</td>\n",
       "      <td>0.0</td>\n",
       "      <td>0.0</td>\n",
       "      <td>0.0</td>\n",
       "    </tr>\n",
       "  </tbody>\n",
       "</table>\n",
       "<p>8693 rows × 19 columns</p>\n",
       "</div>"
      ],
      "text/plain": [
       "      HomePlanet  CryoSleep  Destination       Age  VIP  RoomService  \\\n",
       "0            1.0        0.0     0.000000  0.493671  0.5     0.000000   \n",
       "1            0.0        0.0     0.000000  0.303797  0.5     0.491170   \n",
       "2            1.0        0.0     0.000000  0.734177  0.0     0.395423   \n",
       "3            1.0        0.0     0.000000  0.417722  0.5     0.000000   \n",
       "4            0.0        0.0     0.000000  0.202532  0.5     0.597392   \n",
       "...          ...        ...          ...       ...  ...          ...   \n",
       "8688         1.0        0.0     1.000000  0.518987  0.0     0.000000   \n",
       "8689         0.0        1.0     0.333333  0.227848  0.5     0.000000   \n",
       "8690         0.0        0.0     0.000000  0.329114  0.5     0.000000   \n",
       "8691         1.0        0.0     1.000000  0.405063  0.5     0.000000   \n",
       "8692         1.0        0.0     0.000000  0.556962  0.5     0.506186   \n",
       "\n",
       "      FoodCourt  ShoppingMall       Spa    VRDeck  Cabin_deck  Cabin_side  \\\n",
       "0      0.000000      0.000000  0.000000  0.000000       1.000         0.0   \n",
       "1      0.223493      0.323723  0.629907  0.377219       0.375         1.0   \n",
       "2      0.794185      0.000000  0.879710  0.387660       0.500         1.0   \n",
       "3      0.694741      0.588099  0.809679  0.522016       0.500         1.0   \n",
       "4      0.413743      0.499171  0.632770  0.108866       0.375         1.0   \n",
       "...         ...           ...       ...       ...         ...         ...   \n",
       "8688   0.856823      0.000000  0.739216  0.427839       0.500         0.0   \n",
       "8689   0.000000      0.000000  0.000000  0.000000       0.750         1.0   \n",
       "8690   0.000000      0.748704  0.069196  0.000000       0.750         1.0   \n",
       "8691   0.675214      0.000000  0.585921  0.800891       0.125         1.0   \n",
       "8692   0.820459      0.000000  0.000000  0.254172       0.125         1.0   \n",
       "\n",
       "      Passenger_Group  Age_Nan  RoomService_Nan  FoodCourt_Nan  \\\n",
       "0            0.000000      0.0              0.0            0.0   \n",
       "1            0.000108      0.0              0.0            0.0   \n",
       "2            0.000216      0.0              0.0            0.0   \n",
       "3            0.000216      0.0              0.0            0.0   \n",
       "4            0.000323      0.0              0.0            0.0   \n",
       "...               ...      ...              ...            ...   \n",
       "8688         0.999569      0.0              0.0            0.0   \n",
       "8689         0.999784      0.0              0.0            0.0   \n",
       "8690         0.999892      0.0              0.0            0.0   \n",
       "8691         1.000000      0.0              0.0            0.0   \n",
       "8692         1.000000      0.0              0.0            0.0   \n",
       "\n",
       "      ShoppingMall_Nan  Spa_Nan  VRDeck_Nan  \n",
       "0                  0.0      0.0         0.0  \n",
       "1                  0.0      0.0         0.0  \n",
       "2                  0.0      0.0         0.0  \n",
       "3                  0.0      0.0         0.0  \n",
       "4                  0.0      0.0         0.0  \n",
       "...                ...      ...         ...  \n",
       "8688               0.0      0.0         0.0  \n",
       "8689               0.0      0.0         0.0  \n",
       "8690               0.0      0.0         0.0  \n",
       "8691               0.0      0.0         0.0  \n",
       "8692               0.0      0.0         0.0  \n",
       "\n",
       "[8693 rows x 19 columns]"
      ]
     },
     "execution_count": 67,
     "metadata": {},
     "output_type": "execute_result"
    }
   ],
   "source": [
    "X_train"
   ]
  },
  {
   "cell_type": "markdown",
   "id": "9b4602d3",
   "metadata": {},
   "source": [
    "## Feature Selection"
   ]
  },
  {
   "cell_type": "code",
   "execution_count": 68,
   "id": "4e486069",
   "metadata": {},
   "outputs": [
    {
     "data": {
      "text/plain": [
       "SelectFromModel(estimator=Lasso(alpha=0.005, random_state=0))"
      ]
     },
     "execution_count": 68,
     "metadata": {},
     "output_type": "execute_result"
    }
   ],
   "source": [
    "### Apply Feature Selection\n",
    "# first, I specify the Lasso Regression model, and I\n",
    "# select a suitable alpha (equivalent of penalty).\n",
    "# The bigger the alpha the less features that will be selected.\n",
    "\n",
    "# Then I use the selectFromModel object from sklearn, which\n",
    "# will select the features which coefficients are non-zero\n",
    "from sklearn.linear_model import Lasso\n",
    "from sklearn.feature_selection import SelectFromModel\n",
    "\n",
    "feature_sel_model = SelectFromModel(Lasso(alpha=0.005, random_state=0)) # remember to set the seed, the random state in this function\n",
    "feature_sel_model.fit(X_train, y_train)"
   ]
  },
  {
   "cell_type": "code",
   "execution_count": 69,
   "id": "26146e5e",
   "metadata": {},
   "outputs": [
    {
     "name": "stdout",
     "output_type": "stream",
     "text": [
      "total features: 19\n",
      "selected features: 8\n",
      "features with coefficients shrank to zero: 11\n"
     ]
    }
   ],
   "source": [
    "# let's print the number of total and selected features\n",
    "\n",
    "# this is how we can make a list of the selected features\n",
    "selected_feat = X_train.columns[(feature_sel_model.get_support())]\n",
    "\n",
    "# let's print some stats\n",
    "print('total features: {}'.format((X_train.shape[1])))\n",
    "print('selected features: {}'.format(len(selected_feat)))\n",
    "print('features with coefficients shrank to zero: {}'.format(\n",
    "    np.sum(feature_sel_model.estimator_.coef_ == 0)))"
   ]
  },
  {
   "cell_type": "code",
   "execution_count": 70,
   "id": "bb813314",
   "metadata": {},
   "outputs": [
    {
     "data": {
      "text/plain": [
       "Index(['HomePlanet', 'CryoSleep', 'Destination', 'RoomService', 'FoodCourt',\n",
       "       'Spa', 'VRDeck', 'Cabin_side'],\n",
       "      dtype='object')"
      ]
     },
     "execution_count": 70,
     "metadata": {},
     "output_type": "execute_result"
    }
   ],
   "source": [
    "selected_feat"
   ]
  },
  {
   "cell_type": "code",
   "execution_count": 71,
   "id": "13b6955f",
   "metadata": {},
   "outputs": [],
   "source": [
    "X_train=X_train[selected_feat]"
   ]
  },
  {
   "cell_type": "code",
   "execution_count": 72,
   "id": "e78be1c2",
   "metadata": {},
   "outputs": [
    {
     "data": {
      "text/html": [
       "<div>\n",
       "<style scoped>\n",
       "    .dataframe tbody tr th:only-of-type {\n",
       "        vertical-align: middle;\n",
       "    }\n",
       "\n",
       "    .dataframe tbody tr th {\n",
       "        vertical-align: top;\n",
       "    }\n",
       "\n",
       "    .dataframe thead th {\n",
       "        text-align: right;\n",
       "    }\n",
       "</style>\n",
       "<table border=\"1\" class=\"dataframe\">\n",
       "  <thead>\n",
       "    <tr style=\"text-align: right;\">\n",
       "      <th></th>\n",
       "      <th>HomePlanet</th>\n",
       "      <th>CryoSleep</th>\n",
       "      <th>Destination</th>\n",
       "      <th>RoomService</th>\n",
       "      <th>FoodCourt</th>\n",
       "      <th>Spa</th>\n",
       "      <th>VRDeck</th>\n",
       "      <th>Cabin_side</th>\n",
       "    </tr>\n",
       "  </thead>\n",
       "  <tbody>\n",
       "    <tr>\n",
       "      <th>0</th>\n",
       "      <td>1.0</td>\n",
       "      <td>0.0</td>\n",
       "      <td>0.000000</td>\n",
       "      <td>0.000000</td>\n",
       "      <td>0.000000</td>\n",
       "      <td>0.000000</td>\n",
       "      <td>0.000000</td>\n",
       "      <td>0.0</td>\n",
       "    </tr>\n",
       "    <tr>\n",
       "      <th>1</th>\n",
       "      <td>0.0</td>\n",
       "      <td>0.0</td>\n",
       "      <td>0.000000</td>\n",
       "      <td>0.491170</td>\n",
       "      <td>0.223493</td>\n",
       "      <td>0.629907</td>\n",
       "      <td>0.377219</td>\n",
       "      <td>1.0</td>\n",
       "    </tr>\n",
       "    <tr>\n",
       "      <th>2</th>\n",
       "      <td>1.0</td>\n",
       "      <td>0.0</td>\n",
       "      <td>0.000000</td>\n",
       "      <td>0.395423</td>\n",
       "      <td>0.794185</td>\n",
       "      <td>0.879710</td>\n",
       "      <td>0.387660</td>\n",
       "      <td>1.0</td>\n",
       "    </tr>\n",
       "    <tr>\n",
       "      <th>3</th>\n",
       "      <td>1.0</td>\n",
       "      <td>0.0</td>\n",
       "      <td>0.000000</td>\n",
       "      <td>0.000000</td>\n",
       "      <td>0.694741</td>\n",
       "      <td>0.809679</td>\n",
       "      <td>0.522016</td>\n",
       "      <td>1.0</td>\n",
       "    </tr>\n",
       "    <tr>\n",
       "      <th>4</th>\n",
       "      <td>0.0</td>\n",
       "      <td>0.0</td>\n",
       "      <td>0.000000</td>\n",
       "      <td>0.597392</td>\n",
       "      <td>0.413743</td>\n",
       "      <td>0.632770</td>\n",
       "      <td>0.108866</td>\n",
       "      <td>1.0</td>\n",
       "    </tr>\n",
       "    <tr>\n",
       "      <th>...</th>\n",
       "      <td>...</td>\n",
       "      <td>...</td>\n",
       "      <td>...</td>\n",
       "      <td>...</td>\n",
       "      <td>...</td>\n",
       "      <td>...</td>\n",
       "      <td>...</td>\n",
       "      <td>...</td>\n",
       "    </tr>\n",
       "    <tr>\n",
       "      <th>8688</th>\n",
       "      <td>1.0</td>\n",
       "      <td>0.0</td>\n",
       "      <td>1.000000</td>\n",
       "      <td>0.000000</td>\n",
       "      <td>0.856823</td>\n",
       "      <td>0.739216</td>\n",
       "      <td>0.427839</td>\n",
       "      <td>0.0</td>\n",
       "    </tr>\n",
       "    <tr>\n",
       "      <th>8689</th>\n",
       "      <td>0.0</td>\n",
       "      <td>1.0</td>\n",
       "      <td>0.333333</td>\n",
       "      <td>0.000000</td>\n",
       "      <td>0.000000</td>\n",
       "      <td>0.000000</td>\n",
       "      <td>0.000000</td>\n",
       "      <td>1.0</td>\n",
       "    </tr>\n",
       "    <tr>\n",
       "      <th>8690</th>\n",
       "      <td>0.0</td>\n",
       "      <td>0.0</td>\n",
       "      <td>0.000000</td>\n",
       "      <td>0.000000</td>\n",
       "      <td>0.000000</td>\n",
       "      <td>0.069196</td>\n",
       "      <td>0.000000</td>\n",
       "      <td>1.0</td>\n",
       "    </tr>\n",
       "    <tr>\n",
       "      <th>8691</th>\n",
       "      <td>1.0</td>\n",
       "      <td>0.0</td>\n",
       "      <td>1.000000</td>\n",
       "      <td>0.000000</td>\n",
       "      <td>0.675214</td>\n",
       "      <td>0.585921</td>\n",
       "      <td>0.800891</td>\n",
       "      <td>1.0</td>\n",
       "    </tr>\n",
       "    <tr>\n",
       "      <th>8692</th>\n",
       "      <td>1.0</td>\n",
       "      <td>0.0</td>\n",
       "      <td>0.000000</td>\n",
       "      <td>0.506186</td>\n",
       "      <td>0.820459</td>\n",
       "      <td>0.000000</td>\n",
       "      <td>0.254172</td>\n",
       "      <td>1.0</td>\n",
       "    </tr>\n",
       "  </tbody>\n",
       "</table>\n",
       "<p>8693 rows × 8 columns</p>\n",
       "</div>"
      ],
      "text/plain": [
       "      HomePlanet  CryoSleep  Destination  RoomService  FoodCourt       Spa  \\\n",
       "0            1.0        0.0     0.000000     0.000000   0.000000  0.000000   \n",
       "1            0.0        0.0     0.000000     0.491170   0.223493  0.629907   \n",
       "2            1.0        0.0     0.000000     0.395423   0.794185  0.879710   \n",
       "3            1.0        0.0     0.000000     0.000000   0.694741  0.809679   \n",
       "4            0.0        0.0     0.000000     0.597392   0.413743  0.632770   \n",
       "...          ...        ...          ...          ...        ...       ...   \n",
       "8688         1.0        0.0     1.000000     0.000000   0.856823  0.739216   \n",
       "8689         0.0        1.0     0.333333     0.000000   0.000000  0.000000   \n",
       "8690         0.0        0.0     0.000000     0.000000   0.000000  0.069196   \n",
       "8691         1.0        0.0     1.000000     0.000000   0.675214  0.585921   \n",
       "8692         1.0        0.0     0.000000     0.506186   0.820459  0.000000   \n",
       "\n",
       "        VRDeck  Cabin_side  \n",
       "0     0.000000         0.0  \n",
       "1     0.377219         1.0  \n",
       "2     0.387660         1.0  \n",
       "3     0.522016         1.0  \n",
       "4     0.108866         1.0  \n",
       "...        ...         ...  \n",
       "8688  0.427839         0.0  \n",
       "8689  0.000000         1.0  \n",
       "8690  0.000000         1.0  \n",
       "8691  0.800891         1.0  \n",
       "8692  0.254172         1.0  \n",
       "\n",
       "[8693 rows x 8 columns]"
      ]
     },
     "execution_count": 72,
     "metadata": {},
     "output_type": "execute_result"
    }
   ],
   "source": [
    "X_train"
   ]
  },
  {
   "cell_type": "code",
   "execution_count": 73,
   "id": "8c98be25",
   "metadata": {},
   "outputs": [
    {
     "data": {
      "text/plain": [
       "(8693, 8)"
      ]
     },
     "execution_count": 73,
     "metadata": {},
     "output_type": "execute_result"
    }
   ],
   "source": [
    "X_train.shape"
   ]
  },
  {
   "cell_type": "code",
   "execution_count": 74,
   "id": "e535ec77",
   "metadata": {},
   "outputs": [
    {
     "name": "stderr",
     "output_type": "stream",
     "text": [
      "Using TensorFlow backend.\n"
     ]
    }
   ],
   "source": [
    "from keras.utils import np_utils\n",
    "\n",
    "new_y_train=np_utils.to_categorical(y_train)"
   ]
  },
  {
   "cell_type": "code",
   "execution_count": 75,
   "id": "ca151a5e",
   "metadata": {},
   "outputs": [
    {
     "data": {
      "text/plain": [
       "array([[1., 0.],\n",
       "       [0., 1.],\n",
       "       [1., 0.],\n",
       "       ...,\n",
       "       [0., 1.],\n",
       "       [1., 0.],\n",
       "       [0., 1.]], dtype=float32)"
      ]
     },
     "execution_count": 75,
     "metadata": {},
     "output_type": "execute_result"
    }
   ],
   "source": [
    "new_y_train"
   ]
  },
  {
   "cell_type": "code",
   "execution_count": 76,
   "id": "f86847f3",
   "metadata": {},
   "outputs": [
    {
     "data": {
      "text/plain": [
       "(8693, 2)"
      ]
     },
     "execution_count": 76,
     "metadata": {},
     "output_type": "execute_result"
    }
   ],
   "source": [
    "new_y_train.shape"
   ]
  },
  {
   "cell_type": "code",
   "execution_count": 77,
   "id": "78811a8a",
   "metadata": {},
   "outputs": [],
   "source": [
    "from sklearn.model_selection import train_test_split\n",
    "\n",
    "train_data,test_data,train_target,test_target=train_test_split(X_train,new_y_train,test_size=0.1)"
   ]
  },
  {
   "cell_type": "markdown",
   "id": "1d7c0d73",
   "metadata": {},
   "source": [
    "## Model Creation "
   ]
  },
  {
   "cell_type": "code",
   "execution_count": 78,
   "id": "d11fbb5a",
   "metadata": {},
   "outputs": [
    {
     "name": "stdout",
     "output_type": "stream",
     "text": [
      "Model: \"sequential_1\"\n",
      "_________________________________________________________________\n",
      "Layer (type)                 Output Shape              Param #   \n",
      "=================================================================\n",
      "dense_1 (Dense)              (None, 64)                576       \n",
      "_________________________________________________________________\n",
      "dense_2 (Dense)              (None, 128)               8320      \n",
      "_________________________________________________________________\n",
      "dense_3 (Dense)              (None, 64)                8256      \n",
      "_________________________________________________________________\n",
      "dense_4 (Dense)              (None, 2)                 130       \n",
      "=================================================================\n",
      "Total params: 17,282\n",
      "Trainable params: 17,282\n",
      "Non-trainable params: 0\n",
      "_________________________________________________________________\n"
     ]
    },
    {
     "name": "stderr",
     "output_type": "stream",
     "text": [
      "2022-07-06 16:25:15.732126: I tensorflow/core/platform/cpu_feature_guard.cc:145] This TensorFlow binary is optimized with Intel(R) MKL-DNN to use the following CPU instructions in performance critical operations:  SSE4.1 SSE4.2\n",
      "To enable them in non-MKL-DNN operations, rebuild TensorFlow with the appropriate compiler flags.\n",
      "2022-07-06 16:25:15.732576: I tensorflow/core/common_runtime/process_util.cc:115] Creating new thread pool with default inter op setting: 8. Tune using inter_op_parallelism_threads for best performance.\n"
     ]
    }
   ],
   "source": [
    "from keras.models import Sequential\n",
    "from keras.layers import Dense,Dropout\n",
    "\n",
    "model=Sequential()\n",
    "\n",
    "model.add(Dense(64,input_dim=X_train.shape[1],activation=\"relu\"))\n",
    "model.add(Dense(128,activation=\"relu\"))\n",
    "model.add(Dense(64,activation=\"relu\"))\n",
    "model.add(Dense(new_y_train.shape[1],activation=\"softmax\"))\n",
    "\n",
    "model.compile(loss=\"categorical_crossentropy\",optimizer=\"sgd\",metrics=[\"accuracy\"])\n",
    "model.summary()"
   ]
  },
  {
   "cell_type": "markdown",
   "id": "a2302926",
   "metadata": {},
   "source": [
    "## Model Training"
   ]
  },
  {
   "cell_type": "code",
   "execution_count": 79,
   "id": "6b5e9a85",
   "metadata": {},
   "outputs": [
    {
     "name": "stdout",
     "output_type": "stream",
     "text": [
      "Train on 7823 samples, validate on 870 samples\n",
      "Epoch 1/10\n",
      "7823/7823 [==============================] - 1s 141us/step - loss: 0.6587 - accuracy: 0.6370 - val_loss: 0.6134 - val_accuracy: 0.7368\n",
      "Epoch 2/10\n",
      "7823/7823 [==============================] - 1s 96us/step - loss: 0.5830 - accuracy: 0.7273 - val_loss: 0.5338 - val_accuracy: 0.7655\n",
      "Epoch 3/10\n",
      "7823/7823 [==============================] - 1s 96us/step - loss: 0.5333 - accuracy: 0.7432 - val_loss: 0.4942 - val_accuracy: 0.7759\n",
      "Epoch 4/10\n",
      "7823/7823 [==============================] - 1s 90us/step - loss: 0.5105 - accuracy: 0.7525 - val_loss: 0.4765 - val_accuracy: 0.7782\n",
      "Epoch 5/10\n",
      "7823/7823 [==============================] - 1s 90us/step - loss: 0.4963 - accuracy: 0.7616 - val_loss: 0.4677 - val_accuracy: 0.7839\n",
      "Epoch 6/10\n",
      "7823/7823 [==============================] - 1s 108us/step - loss: 0.4871 - accuracy: 0.7680 - val_loss: 0.4612 - val_accuracy: 0.7828\n",
      "Epoch 7/10\n",
      "7823/7823 [==============================] - 1s 107us/step - loss: 0.4813 - accuracy: 0.7714 - val_loss: 0.4592 - val_accuracy: 0.7908\n",
      "Epoch 8/10\n",
      "7823/7823 [==============================] - 1s 93us/step - loss: 0.4781 - accuracy: 0.7730 - val_loss: 0.4574 - val_accuracy: 0.7920\n",
      "Epoch 9/10\n",
      "7823/7823 [==============================] - 1s 94us/step - loss: 0.4761 - accuracy: 0.7743 - val_loss: 0.4575 - val_accuracy: 0.7862\n",
      "Epoch 10/10\n",
      "7823/7823 [==============================] - 1s 104us/step - loss: 0.4744 - accuracy: 0.7737 - val_loss: 0.4559 - val_accuracy: 0.7908\n"
     ]
    }
   ],
   "source": [
    "history=model.fit(train_data,train_target,validation_data=(test_data,test_target),epochs=10)"
   ]
  },
  {
   "cell_type": "code",
   "execution_count": 80,
   "id": "dd6206ee",
   "metadata": {},
   "outputs": [
    {
     "data": {
      "image/png": "[encoded data removed]",
      "text/plain": [
       "<Figure size 432x288 with 1 Axes>"
      ]
     },
     "metadata": {
      "needs_background": "light"
     },
     "output_type": "display_data"
    }
   ],
   "source": [
    "plt.plot(history.history[\"loss\"],\"b\")\n",
    "plt.plot(history.history[\"val_loss\"],\"r\")\n",
    "plt.show()"
   ]
  },
  {
   "cell_type": "code",
   "execution_count": 81,
   "id": "21535797",
   "metadata": {},
   "outputs": [
    {
     "data": {
      "text/plain": [
       "[<matplotlib.lines.Line2D at 0x7f93d8704910>]"
      ]
     },
     "execution_count": 81,
     "metadata": {},
     "output_type": "execute_result"
    },
    {
     "data": {
      "image/png": "[encoded data removed]",
      "text/plain": [
       "<Figure size 432x288 with 1 Axes>"
      ]
     },
     "metadata": {
      "needs_background": "light"
     },
     "output_type": "display_data"
    }
   ],
   "source": [
    "plt.plot(history.history[\"accuracy\"],\"b\")\n",
    "plt.plot(history.history[\"val_accuracy\"],\"r\")"
   ]
  },
  {
   "cell_type": "markdown",
   "id": "f61c9997",
   "metadata": {},
   "source": [
    "## Model Saving"
   ]
  },
  {
   "cell_type": "code",
   "execution_count": 82,
   "id": "557289aa",
   "metadata": {},
   "outputs": [],
   "source": [
    "model.save_weights(\"space_titanics.h5\")\n",
    "model.save(\"space_titanics.model\")"
   ]
  },
  {
   "cell_type": "markdown",
   "id": "e3c7cd90",
   "metadata": {},
   "source": [
    "## Testing"
   ]
  },
  {
   "cell_type": "code",
   "execution_count": 83,
   "id": "fea18a18",
   "metadata": {},
   "outputs": [],
   "source": [
    "\n",
    "testset=pd.read_csv(\"/Users/kumara/Desktop/machine learning /kaggle/spaceship titanic/spaceship-titanic/test.csv\")"
   ]
  },
  {
   "cell_type": "code",
   "execution_count": 84,
   "id": "04d728b4",
   "metadata": {},
   "outputs": [
    {
     "data": {
      "text/html": [
       "<div>\n",
       "<style scoped>\n",
       "    .dataframe tbody tr th:only-of-type {\n",
       "        vertical-align: middle;\n",
       "    }\n",
       "\n",
       "    .dataframe tbody tr th {\n",
       "        vertical-align: top;\n",
       "    }\n",
       "\n",
       "    .dataframe thead th {\n",
       "        text-align: right;\n",
       "    }\n",
       "</style>\n",
       "<table border=\"1\" class=\"dataframe\">\n",
       "  <thead>\n",
       "    <tr style=\"text-align: right;\">\n",
       "      <th></th>\n",
       "      <th>PassengerId</th>\n",
       "      <th>HomePlanet</th>\n",
       "      <th>CryoSleep</th>\n",
       "      <th>Cabin</th>\n",
       "      <th>Destination</th>\n",
       "      <th>Age</th>\n",
       "      <th>VIP</th>\n",
       "      <th>RoomService</th>\n",
       "      <th>FoodCourt</th>\n",
       "      <th>ShoppingMall</th>\n",
       "      <th>Spa</th>\n",
       "      <th>VRDeck</th>\n",
       "      <th>Name</th>\n",
       "    </tr>\n",
       "  </thead>\n",
       "  <tbody>\n",
       "    <tr>\n",
       "      <th>0</th>\n",
       "      <td>0013_01</td>\n",
       "      <td>Earth</td>\n",
       "      <td>True</td>\n",
       "      <td>G/3/S</td>\n",
       "      <td>TRAPPIST-1e</td>\n",
       "      <td>27.0</td>\n",
       "      <td>False</td>\n",
       "      <td>0.0</td>\n",
       "      <td>0.0</td>\n",
       "      <td>0.0</td>\n",
       "      <td>0.0</td>\n",
       "      <td>0.0</td>\n",
       "      <td>Nelly Carsoning</td>\n",
       "    </tr>\n",
       "    <tr>\n",
       "      <th>1</th>\n",
       "      <td>0018_01</td>\n",
       "      <td>Earth</td>\n",
       "      <td>False</td>\n",
       "      <td>F/4/S</td>\n",
       "      <td>TRAPPIST-1e</td>\n",
       "      <td>19.0</td>\n",
       "      <td>False</td>\n",
       "      <td>0.0</td>\n",
       "      <td>9.0</td>\n",
       "      <td>0.0</td>\n",
       "      <td>2823.0</td>\n",
       "      <td>0.0</td>\n",
       "      <td>Lerome Peckers</td>\n",
       "    </tr>\n",
       "    <tr>\n",
       "      <th>2</th>\n",
       "      <td>0019_01</td>\n",
       "      <td>Europa</td>\n",
       "      <td>True</td>\n",
       "      <td>C/0/S</td>\n",
       "      <td>55 Cancri e</td>\n",
       "      <td>31.0</td>\n",
       "      <td>False</td>\n",
       "      <td>0.0</td>\n",
       "      <td>0.0</td>\n",
       "      <td>0.0</td>\n",
       "      <td>0.0</td>\n",
       "      <td>0.0</td>\n",
       "      <td>Sabih Unhearfus</td>\n",
       "    </tr>\n",
       "    <tr>\n",
       "      <th>3</th>\n",
       "      <td>0021_01</td>\n",
       "      <td>Europa</td>\n",
       "      <td>False</td>\n",
       "      <td>C/1/S</td>\n",
       "      <td>TRAPPIST-1e</td>\n",
       "      <td>38.0</td>\n",
       "      <td>False</td>\n",
       "      <td>0.0</td>\n",
       "      <td>6652.0</td>\n",
       "      <td>0.0</td>\n",
       "      <td>181.0</td>\n",
       "      <td>585.0</td>\n",
       "      <td>Meratz Caltilter</td>\n",
       "    </tr>\n",
       "    <tr>\n",
       "      <th>4</th>\n",
       "      <td>0023_01</td>\n",
       "      <td>Earth</td>\n",
       "      <td>False</td>\n",
       "      <td>F/5/S</td>\n",
       "      <td>TRAPPIST-1e</td>\n",
       "      <td>20.0</td>\n",
       "      <td>False</td>\n",
       "      <td>10.0</td>\n",
       "      <td>0.0</td>\n",
       "      <td>635.0</td>\n",
       "      <td>0.0</td>\n",
       "      <td>0.0</td>\n",
       "      <td>Brence Harperez</td>\n",
       "    </tr>\n",
       "    <tr>\n",
       "      <th>...</th>\n",
       "      <td>...</td>\n",
       "      <td>...</td>\n",
       "      <td>...</td>\n",
       "      <td>...</td>\n",
       "      <td>...</td>\n",
       "      <td>...</td>\n",
       "      <td>...</td>\n",
       "      <td>...</td>\n",
       "      <td>...</td>\n",
       "      <td>...</td>\n",
       "      <td>...</td>\n",
       "      <td>...</td>\n",
       "      <td>...</td>\n",
       "    </tr>\n",
       "    <tr>\n",
       "      <th>4272</th>\n",
       "      <td>9266_02</td>\n",
       "      <td>Earth</td>\n",
       "      <td>True</td>\n",
       "      <td>G/1496/S</td>\n",
       "      <td>TRAPPIST-1e</td>\n",
       "      <td>34.0</td>\n",
       "      <td>False</td>\n",
       "      <td>0.0</td>\n",
       "      <td>0.0</td>\n",
       "      <td>0.0</td>\n",
       "      <td>0.0</td>\n",
       "      <td>0.0</td>\n",
       "      <td>Jeron Peter</td>\n",
       "    </tr>\n",
       "    <tr>\n",
       "      <th>4273</th>\n",
       "      <td>9269_01</td>\n",
       "      <td>Earth</td>\n",
       "      <td>False</td>\n",
       "      <td>NaN</td>\n",
       "      <td>TRAPPIST-1e</td>\n",
       "      <td>42.0</td>\n",
       "      <td>False</td>\n",
       "      <td>0.0</td>\n",
       "      <td>847.0</td>\n",
       "      <td>17.0</td>\n",
       "      <td>10.0</td>\n",
       "      <td>144.0</td>\n",
       "      <td>Matty Scheron</td>\n",
       "    </tr>\n",
       "    <tr>\n",
       "      <th>4274</th>\n",
       "      <td>9271_01</td>\n",
       "      <td>Mars</td>\n",
       "      <td>True</td>\n",
       "      <td>D/296/P</td>\n",
       "      <td>55 Cancri e</td>\n",
       "      <td>NaN</td>\n",
       "      <td>False</td>\n",
       "      <td>0.0</td>\n",
       "      <td>0.0</td>\n",
       "      <td>0.0</td>\n",
       "      <td>0.0</td>\n",
       "      <td>0.0</td>\n",
       "      <td>Jayrin Pore</td>\n",
       "    </tr>\n",
       "    <tr>\n",
       "      <th>4275</th>\n",
       "      <td>9273_01</td>\n",
       "      <td>Europa</td>\n",
       "      <td>False</td>\n",
       "      <td>D/297/P</td>\n",
       "      <td>NaN</td>\n",
       "      <td>NaN</td>\n",
       "      <td>False</td>\n",
       "      <td>0.0</td>\n",
       "      <td>2680.0</td>\n",
       "      <td>0.0</td>\n",
       "      <td>0.0</td>\n",
       "      <td>523.0</td>\n",
       "      <td>Kitakan Conale</td>\n",
       "    </tr>\n",
       "    <tr>\n",
       "      <th>4276</th>\n",
       "      <td>9277_01</td>\n",
       "      <td>Earth</td>\n",
       "      <td>True</td>\n",
       "      <td>G/1498/S</td>\n",
       "      <td>PSO J318.5-22</td>\n",
       "      <td>43.0</td>\n",
       "      <td>False</td>\n",
       "      <td>0.0</td>\n",
       "      <td>0.0</td>\n",
       "      <td>0.0</td>\n",
       "      <td>0.0</td>\n",
       "      <td>0.0</td>\n",
       "      <td>Lilace Leonzaley</td>\n",
       "    </tr>\n",
       "  </tbody>\n",
       "</table>\n",
       "<p>4277 rows × 13 columns</p>\n",
       "</div>"
      ],
      "text/plain": [
       "     PassengerId HomePlanet CryoSleep     Cabin    Destination   Age    VIP  \\\n",
       "0        0013_01      Earth      True     G/3/S    TRAPPIST-1e  27.0  False   \n",
       "1        0018_01      Earth     False     F/4/S    TRAPPIST-1e  19.0  False   \n",
       "2        0019_01     Europa      True     C/0/S    55 Cancri e  31.0  False   \n",
       "3        0021_01     Europa     False     C/1/S    TRAPPIST-1e  38.0  False   \n",
       "4        0023_01      Earth     False     F/5/S    TRAPPIST-1e  20.0  False   \n",
       "...          ...        ...       ...       ...            ...   ...    ...   \n",
       "4272     9266_02      Earth      True  G/1496/S    TRAPPIST-1e  34.0  False   \n",
       "4273     9269_01      Earth     False       NaN    TRAPPIST-1e  42.0  False   \n",
       "4274     9271_01       Mars      True   D/296/P    55 Cancri e   NaN  False   \n",
       "4275     9273_01     Europa     False   D/297/P            NaN   NaN  False   \n",
       "4276     9277_01      Earth      True  G/1498/S  PSO J318.5-22  43.0  False   \n",
       "\n",
       "      RoomService  FoodCourt  ShoppingMall     Spa  VRDeck              Name  \n",
       "0             0.0        0.0           0.0     0.0     0.0   Nelly Carsoning  \n",
       "1             0.0        9.0           0.0  2823.0     0.0    Lerome Peckers  \n",
       "2             0.0        0.0           0.0     0.0     0.0   Sabih Unhearfus  \n",
       "3             0.0     6652.0           0.0   181.0   585.0  Meratz Caltilter  \n",
       "4            10.0        0.0         635.0     0.0     0.0   Brence Harperez  \n",
       "...           ...        ...           ...     ...     ...               ...  \n",
       "4272          0.0        0.0           0.0     0.0     0.0       Jeron Peter  \n",
       "4273          0.0      847.0          17.0    10.0   144.0     Matty Scheron  \n",
       "4274          0.0        0.0           0.0     0.0     0.0       Jayrin Pore  \n",
       "4275          0.0     2680.0           0.0     0.0   523.0    Kitakan Conale  \n",
       "4276          0.0        0.0           0.0     0.0     0.0  Lilace Leonzaley  \n",
       "\n",
       "[4277 rows x 13 columns]"
      ]
     },
     "execution_count": 84,
     "metadata": {},
     "output_type": "execute_result"
    }
   ],
   "source": [
    "testset"
   ]
  },
  {
   "cell_type": "code",
   "execution_count": null,
   "id": "01ed585e",
   "metadata": {},
   "outputs": [],
   "source": []
  },
  {
   "cell_type": "code",
   "execution_count": 85,
   "id": "5a4ddf42",
   "metadata": {},
   "outputs": [],
   "source": [
    "#add cabin_deck and cabin_side column instead of cabin\n",
    "testset[\"Cabin_deck\"]=testset[\"Cabin\"].apply(lambda x: \"Missing\" if pd.isna(x) else str(x).split(\"/\")[0])\n",
    "testset[\"Cabin_side\"]=testset[\"Cabin\"].apply(lambda x: \"Missing\" if pd.isna(x) else str(x).split(\"/\")[2])\n",
    "testset.drop(\"Cabin\",axis=1,inplace=True)"
   ]
  },
  {
   "cell_type": "code",
   "execution_count": 86,
   "id": "4322be03",
   "metadata": {},
   "outputs": [],
   "source": [
    "#Drop name column\n",
    "testset.drop(\"Name\",axis=1,inplace=True)"
   ]
  },
  {
   "cell_type": "code",
   "execution_count": 87,
   "id": "962dfeba",
   "metadata": {},
   "outputs": [],
   "source": [
    "#Drop PassengerId column and add Passneger_Group\n",
    "testset[\"Passenger_Group\"]=testset[\"PassengerId\"].apply(lambda x: int(str(x).split(\"_\")[0]))\n",
    "testset.drop(\"PassengerId\",axis=1,inplace=True)"
   ]
  },
  {
   "cell_type": "code",
   "execution_count": 88,
   "id": "caa7f7a6",
   "metadata": {},
   "outputs": [],
   "source": [
    "#missing values-Categorical\n",
    "categorical_with_na=[feature for feature in testset.columns if testset[feature].isna().sum()>1 \n",
    "                     and testset[feature].dtypes==\"O\"]\n",
    "## Replace missing value with a new label\n",
    "def replace_categorical_features(df,categorical_features):\n",
    "    data=df.copy()\n",
    "    data[categorical_features]=data[categorical_features].fillna(\"Missing\")\n",
    "    return data\n",
    "\n",
    "testset=replace_categorical_features(testset,categorical_with_na)\n",
    "\n"
   ]
  },
  {
   "cell_type": "code",
   "execution_count": 89,
   "id": "c1bf23d5",
   "metadata": {},
   "outputs": [],
   "source": [
    "#missing values-Numerical\n",
    "numerical_with_na=[feature for feature in testset.columns if testset[feature].isnull().sum()>1 \n",
    "                   and testset[feature].dtypes!=\"0\" ]\n",
    "\n",
    "\n",
    "for feature in numerical_with_na:\n",
    "\n",
    "    median_val=testset[feature].median()\n",
    "    testset[feature+\"_Nan\"]=np.where(testset[feature].isnull(),1,0)\n",
    "    testset[feature].fillna(median_val,inplace=True)\n",
    " "
   ]
  },
  {
   "cell_type": "code",
   "execution_count": 90,
   "id": "83ff034e",
   "metadata": {},
   "outputs": [],
   "source": [
    "#log scaling except Age\n",
    "continuous_features=['RoomService', 'FoodCourt', 'ShoppingMall', 'Spa', 'VRDeck']\n",
    "for feature in continuous_features:\n",
    "    testset[feature]=np.log(testset[feature]+1)\n"
   ]
  },
  {
   "cell_type": "code",
   "execution_count": 91,
   "id": "6fe96efb",
   "metadata": {},
   "outputs": [],
   "source": [
    "#rare categorical features\n",
    "categorical_features=[feature for feature in testset.columns if testset[feature].dtypes==\"O\"]\n",
    "\n",
    "for feature in categorical_features:\n",
    "    temp=testset.groupby(feature)['Age'].count()/len(testset)\n",
    "    temp_df=temp[temp>0.01].index\n",
    "    testset[feature]=np.where(testset[feature].isin(temp_df),testset[feature],'Rare_var')"
   ]
  },
  {
   "cell_type": "code",
   "execution_count": 92,
   "id": "d55d8075",
   "metadata": {},
   "outputs": [],
   "source": [
    "#encoding\n",
    "for feature in categorical_features:\n",
    "    testset[feature]=testset[feature].map(encorder[feature])"
   ]
  },
  {
   "cell_type": "code",
   "execution_count": 93,
   "id": "53340be7",
   "metadata": {},
   "outputs": [],
   "source": [
    "#scaling\n",
    "all_features=testset.columns\n",
    "testset[all_features]=scaler.transform(testset[all_features])"
   ]
  },
  {
   "cell_type": "code",
   "execution_count": 94,
   "id": "32b010de",
   "metadata": {},
   "outputs": [
    {
     "data": {
      "text/html": [
       "<div>\n",
       "<style scoped>\n",
       "    .dataframe tbody tr th:only-of-type {\n",
       "        vertical-align: middle;\n",
       "    }\n",
       "\n",
       "    .dataframe tbody tr th {\n",
       "        vertical-align: top;\n",
       "    }\n",
       "\n",
       "    .dataframe thead th {\n",
       "        text-align: right;\n",
       "    }\n",
       "</style>\n",
       "<table border=\"1\" class=\"dataframe\">\n",
       "  <thead>\n",
       "    <tr style=\"text-align: right;\">\n",
       "      <th></th>\n",
       "      <th>HomePlanet</th>\n",
       "      <th>CryoSleep</th>\n",
       "      <th>Destination</th>\n",
       "      <th>Age</th>\n",
       "      <th>VIP</th>\n",
       "      <th>RoomService</th>\n",
       "      <th>FoodCourt</th>\n",
       "      <th>ShoppingMall</th>\n",
       "      <th>Spa</th>\n",
       "      <th>VRDeck</th>\n",
       "      <th>Cabin_deck</th>\n",
       "      <th>Cabin_side</th>\n",
       "      <th>Passenger_Group</th>\n",
       "      <th>Age_Nan</th>\n",
       "      <th>RoomService_Nan</th>\n",
       "      <th>FoodCourt_Nan</th>\n",
       "      <th>ShoppingMall_Nan</th>\n",
       "      <th>Spa_Nan</th>\n",
       "      <th>VRDeck_Nan</th>\n",
       "    </tr>\n",
       "  </thead>\n",
       "  <tbody>\n",
       "    <tr>\n",
       "      <th>0</th>\n",
       "      <td>0.000000</td>\n",
       "      <td>1.0</td>\n",
       "      <td>0.000000</td>\n",
       "      <td>0.341772</td>\n",
       "      <td>0.5</td>\n",
       "      <td>0.000000</td>\n",
       "      <td>0.000000</td>\n",
       "      <td>0.000000</td>\n",
       "      <td>0.000000</td>\n",
       "      <td>0.000000</td>\n",
       "      <td>0.750</td>\n",
       "      <td>1.0</td>\n",
       "      <td>0.001293</td>\n",
       "      <td>0.0</td>\n",
       "      <td>0.0</td>\n",
       "      <td>0.0</td>\n",
       "      <td>0.0</td>\n",
       "      <td>0.0</td>\n",
       "      <td>0.0</td>\n",
       "    </tr>\n",
       "    <tr>\n",
       "      <th>1</th>\n",
       "      <td>0.000000</td>\n",
       "      <td>0.0</td>\n",
       "      <td>0.000000</td>\n",
       "      <td>0.240506</td>\n",
       "      <td>0.5</td>\n",
       "      <td>0.000000</td>\n",
       "      <td>0.223493</td>\n",
       "      <td>0.000000</td>\n",
       "      <td>0.793225</td>\n",
       "      <td>0.000000</td>\n",
       "      <td>0.375</td>\n",
       "      <td>1.0</td>\n",
       "      <td>0.001832</td>\n",
       "      <td>0.0</td>\n",
       "      <td>0.0</td>\n",
       "      <td>0.0</td>\n",
       "      <td>0.0</td>\n",
       "      <td>0.0</td>\n",
       "      <td>0.0</td>\n",
       "    </tr>\n",
       "    <tr>\n",
       "      <th>2</th>\n",
       "      <td>1.000000</td>\n",
       "      <td>1.0</td>\n",
       "      <td>1.000000</td>\n",
       "      <td>0.392405</td>\n",
       "      <td>0.5</td>\n",
       "      <td>0.000000</td>\n",
       "      <td>0.000000</td>\n",
       "      <td>0.000000</td>\n",
       "      <td>0.000000</td>\n",
       "      <td>0.000000</td>\n",
       "      <td>0.875</td>\n",
       "      <td>1.0</td>\n",
       "      <td>0.001940</td>\n",
       "      <td>0.0</td>\n",
       "      <td>0.0</td>\n",
       "      <td>0.0</td>\n",
       "      <td>0.0</td>\n",
       "      <td>0.0</td>\n",
       "      <td>0.0</td>\n",
       "    </tr>\n",
       "    <tr>\n",
       "      <th>3</th>\n",
       "      <td>1.000000</td>\n",
       "      <td>0.0</td>\n",
       "      <td>0.000000</td>\n",
       "      <td>0.481013</td>\n",
       "      <td>0.5</td>\n",
       "      <td>0.000000</td>\n",
       "      <td>0.854416</td>\n",
       "      <td>0.000000</td>\n",
       "      <td>0.519506</td>\n",
       "      <td>0.631561</td>\n",
       "      <td>0.875</td>\n",
       "      <td>1.0</td>\n",
       "      <td>0.002155</td>\n",
       "      <td>0.0</td>\n",
       "      <td>0.0</td>\n",
       "      <td>0.0</td>\n",
       "      <td>0.0</td>\n",
       "      <td>0.0</td>\n",
       "      <td>0.0</td>\n",
       "    </tr>\n",
       "    <tr>\n",
       "      <th>4</th>\n",
       "      <td>0.000000</td>\n",
       "      <td>0.0</td>\n",
       "      <td>0.000000</td>\n",
       "      <td>0.253165</td>\n",
       "      <td>0.5</td>\n",
       "      <td>0.250565</td>\n",
       "      <td>0.000000</td>\n",
       "      <td>0.641386</td>\n",
       "      <td>0.000000</td>\n",
       "      <td>0.000000</td>\n",
       "      <td>0.375</td>\n",
       "      <td>1.0</td>\n",
       "      <td>0.002371</td>\n",
       "      <td>0.0</td>\n",
       "      <td>0.0</td>\n",
       "      <td>0.0</td>\n",
       "      <td>0.0</td>\n",
       "      <td>0.0</td>\n",
       "      <td>0.0</td>\n",
       "    </tr>\n",
       "    <tr>\n",
       "      <th>...</th>\n",
       "      <td>...</td>\n",
       "      <td>...</td>\n",
       "      <td>...</td>\n",
       "      <td>...</td>\n",
       "      <td>...</td>\n",
       "      <td>...</td>\n",
       "      <td>...</td>\n",
       "      <td>...</td>\n",
       "      <td>...</td>\n",
       "      <td>...</td>\n",
       "      <td>...</td>\n",
       "      <td>...</td>\n",
       "      <td>...</td>\n",
       "      <td>...</td>\n",
       "      <td>...</td>\n",
       "      <td>...</td>\n",
       "      <td>...</td>\n",
       "      <td>...</td>\n",
       "      <td>...</td>\n",
       "    </tr>\n",
       "    <tr>\n",
       "      <th>4272</th>\n",
       "      <td>0.000000</td>\n",
       "      <td>1.0</td>\n",
       "      <td>0.000000</td>\n",
       "      <td>0.430380</td>\n",
       "      <td>0.5</td>\n",
       "      <td>0.000000</td>\n",
       "      <td>0.000000</td>\n",
       "      <td>0.000000</td>\n",
       "      <td>0.000000</td>\n",
       "      <td>0.000000</td>\n",
       "      <td>0.750</td>\n",
       "      <td>1.0</td>\n",
       "      <td>0.998491</td>\n",
       "      <td>0.0</td>\n",
       "      <td>0.0</td>\n",
       "      <td>0.0</td>\n",
       "      <td>0.0</td>\n",
       "      <td>0.0</td>\n",
       "      <td>0.0</td>\n",
       "    </tr>\n",
       "    <tr>\n",
       "      <th>4273</th>\n",
       "      <td>0.000000</td>\n",
       "      <td>0.0</td>\n",
       "      <td>0.000000</td>\n",
       "      <td>0.531646</td>\n",
       "      <td>0.5</td>\n",
       "      <td>0.000000</td>\n",
       "      <td>0.654475</td>\n",
       "      <td>0.287186</td>\n",
       "      <td>0.239377</td>\n",
       "      <td>0.493167</td>\n",
       "      <td>0.625</td>\n",
       "      <td>0.5</td>\n",
       "      <td>0.998815</td>\n",
       "      <td>0.0</td>\n",
       "      <td>0.0</td>\n",
       "      <td>0.0</td>\n",
       "      <td>0.0</td>\n",
       "      <td>0.0</td>\n",
       "      <td>0.0</td>\n",
       "    </tr>\n",
       "    <tr>\n",
       "      <th>4274</th>\n",
       "      <td>0.666667</td>\n",
       "      <td>1.0</td>\n",
       "      <td>1.000000</td>\n",
       "      <td>0.329114</td>\n",
       "      <td>0.5</td>\n",
       "      <td>0.000000</td>\n",
       "      <td>0.000000</td>\n",
       "      <td>0.000000</td>\n",
       "      <td>0.000000</td>\n",
       "      <td>0.000000</td>\n",
       "      <td>0.250</td>\n",
       "      <td>0.0</td>\n",
       "      <td>0.999030</td>\n",
       "      <td>1.0</td>\n",
       "      <td>0.0</td>\n",
       "      <td>0.0</td>\n",
       "      <td>0.0</td>\n",
       "      <td>0.0</td>\n",
       "      <td>0.0</td>\n",
       "    </tr>\n",
       "    <tr>\n",
       "      <th>4275</th>\n",
       "      <td>1.000000</td>\n",
       "      <td>0.0</td>\n",
       "      <td>0.666667</td>\n",
       "      <td>0.329114</td>\n",
       "      <td>0.5</td>\n",
       "      <td>0.000000</td>\n",
       "      <td>0.766199</td>\n",
       "      <td>0.000000</td>\n",
       "      <td>0.000000</td>\n",
       "      <td>0.620479</td>\n",
       "      <td>0.250</td>\n",
       "      <td>0.0</td>\n",
       "      <td>0.999246</td>\n",
       "      <td>1.0</td>\n",
       "      <td>0.0</td>\n",
       "      <td>0.0</td>\n",
       "      <td>0.0</td>\n",
       "      <td>0.0</td>\n",
       "      <td>0.0</td>\n",
       "    </tr>\n",
       "    <tr>\n",
       "      <th>4276</th>\n",
       "      <td>0.000000</td>\n",
       "      <td>1.0</td>\n",
       "      <td>0.333333</td>\n",
       "      <td>0.544304</td>\n",
       "      <td>0.5</td>\n",
       "      <td>0.000000</td>\n",
       "      <td>0.000000</td>\n",
       "      <td>0.000000</td>\n",
       "      <td>0.000000</td>\n",
       "      <td>0.000000</td>\n",
       "      <td>0.750</td>\n",
       "      <td>1.0</td>\n",
       "      <td>0.999677</td>\n",
       "      <td>0.0</td>\n",
       "      <td>0.0</td>\n",
       "      <td>0.0</td>\n",
       "      <td>0.0</td>\n",
       "      <td>0.0</td>\n",
       "      <td>0.0</td>\n",
       "    </tr>\n",
       "  </tbody>\n",
       "</table>\n",
       "<p>4277 rows × 19 columns</p>\n",
       "</div>"
      ],
      "text/plain": [
       "      HomePlanet  CryoSleep  Destination       Age  VIP  RoomService  \\\n",
       "0       0.000000        1.0     0.000000  0.341772  0.5     0.000000   \n",
       "1       0.000000        0.0     0.000000  0.240506  0.5     0.000000   \n",
       "2       1.000000        1.0     1.000000  0.392405  0.5     0.000000   \n",
       "3       1.000000        0.0     0.000000  0.481013  0.5     0.000000   \n",
       "4       0.000000        0.0     0.000000  0.253165  0.5     0.250565   \n",
       "...          ...        ...          ...       ...  ...          ...   \n",
       "4272    0.000000        1.0     0.000000  0.430380  0.5     0.000000   \n",
       "4273    0.000000        0.0     0.000000  0.531646  0.5     0.000000   \n",
       "4274    0.666667        1.0     1.000000  0.329114  0.5     0.000000   \n",
       "4275    1.000000        0.0     0.666667  0.329114  0.5     0.000000   \n",
       "4276    0.000000        1.0     0.333333  0.544304  0.5     0.000000   \n",
       "\n",
       "      FoodCourt  ShoppingMall       Spa    VRDeck  Cabin_deck  Cabin_side  \\\n",
       "0      0.000000      0.000000  0.000000  0.000000       0.750         1.0   \n",
       "1      0.223493      0.000000  0.793225  0.000000       0.375         1.0   \n",
       "2      0.000000      0.000000  0.000000  0.000000       0.875         1.0   \n",
       "3      0.854416      0.000000  0.519506  0.631561       0.875         1.0   \n",
       "4      0.000000      0.641386  0.000000  0.000000       0.375         1.0   \n",
       "...         ...           ...       ...       ...         ...         ...   \n",
       "4272   0.000000      0.000000  0.000000  0.000000       0.750         1.0   \n",
       "4273   0.654475      0.287186  0.239377  0.493167       0.625         0.5   \n",
       "4274   0.000000      0.000000  0.000000  0.000000       0.250         0.0   \n",
       "4275   0.766199      0.000000  0.000000  0.620479       0.250         0.0   \n",
       "4276   0.000000      0.000000  0.000000  0.000000       0.750         1.0   \n",
       "\n",
       "      Passenger_Group  Age_Nan  RoomService_Nan  FoodCourt_Nan  \\\n",
       "0            0.001293      0.0              0.0            0.0   \n",
       "1            0.001832      0.0              0.0            0.0   \n",
       "2            0.001940      0.0              0.0            0.0   \n",
       "3            0.002155      0.0              0.0            0.0   \n",
       "4            0.002371      0.0              0.0            0.0   \n",
       "...               ...      ...              ...            ...   \n",
       "4272         0.998491      0.0              0.0            0.0   \n",
       "4273         0.998815      0.0              0.0            0.0   \n",
       "4274         0.999030      1.0              0.0            0.0   \n",
       "4275         0.999246      1.0              0.0            0.0   \n",
       "4276         0.999677      0.0              0.0            0.0   \n",
       "\n",
       "      ShoppingMall_Nan  Spa_Nan  VRDeck_Nan  \n",
       "0                  0.0      0.0         0.0  \n",
       "1                  0.0      0.0         0.0  \n",
       "2                  0.0      0.0         0.0  \n",
       "3                  0.0      0.0         0.0  \n",
       "4                  0.0      0.0         0.0  \n",
       "...                ...      ...         ...  \n",
       "4272               0.0      0.0         0.0  \n",
       "4273               0.0      0.0         0.0  \n",
       "4274               0.0      0.0         0.0  \n",
       "4275               0.0      0.0         0.0  \n",
       "4276               0.0      0.0         0.0  \n",
       "\n",
       "[4277 rows x 19 columns]"
      ]
     },
     "execution_count": 94,
     "metadata": {},
     "output_type": "execute_result"
    }
   ],
   "source": [
    "testset"
   ]
  },
  {
   "cell_type": "code",
   "execution_count": 95,
   "id": "8e628965",
   "metadata": {},
   "outputs": [
    {
     "data": {
      "text/plain": [
       "(4277, 19)"
      ]
     },
     "execution_count": 95,
     "metadata": {},
     "output_type": "execute_result"
    }
   ],
   "source": [
    "testset.shape"
   ]
  },
  {
   "cell_type": "code",
   "execution_count": 96,
   "id": "7f713e59",
   "metadata": {},
   "outputs": [],
   "source": [
    "#feature selection\n",
    "testset=testset[selected_feat]"
   ]
  },
  {
   "cell_type": "code",
   "execution_count": 97,
   "id": "6d1e8552",
   "metadata": {},
   "outputs": [
    {
     "data": {
      "text/plain": [
       "(4277, 8)"
      ]
     },
     "execution_count": 97,
     "metadata": {},
     "output_type": "execute_result"
    }
   ],
   "source": [
    "testset.shape"
   ]
  },
  {
   "cell_type": "code",
   "execution_count": 98,
   "id": "cfd74822",
   "metadata": {},
   "outputs": [],
   "source": [
    "#get predictions\n",
    "prediction=model.predict(testset)"
   ]
  },
  {
   "cell_type": "code",
   "execution_count": 99,
   "id": "8b78bf1f",
   "metadata": {},
   "outputs": [
    {
     "data": {
      "text/plain": [
       "(4277, 2)"
      ]
     },
     "execution_count": 99,
     "metadata": {},
     "output_type": "execute_result"
    }
   ],
   "source": [
    "prediction.shape"
   ]
  },
  {
   "cell_type": "code",
   "execution_count": 100,
   "id": "865e36fe",
   "metadata": {},
   "outputs": [
    {
     "data": {
      "text/plain": [
       "numpy.ndarray"
      ]
     },
     "execution_count": 100,
     "metadata": {},
     "output_type": "execute_result"
    }
   ],
   "source": [
    "type(prediction)"
   ]
  },
  {
   "cell_type": "code",
   "execution_count": 114,
   "id": "eb3d0488",
   "metadata": {},
   "outputs": [],
   "source": [
    "#convert 0 and 1s\n",
    "labels=np.argmax(prediction,axis=1)"
   ]
  },
  {
   "cell_type": "code",
   "execution_count": 116,
   "id": "557383e3",
   "metadata": {},
   "outputs": [],
   "source": [
    "#convert boolean format\n",
    "threshold=0.5\n",
    "final_labels=np.where(labels>0.5,True,False)"
   ]
  },
  {
   "cell_type": "code",
   "execution_count": 117,
   "id": "92e42ca5",
   "metadata": {},
   "outputs": [
    {
     "data": {
      "text/plain": [
       "array([ True, False,  True, ...,  True,  True,  True])"
      ]
     },
     "execution_count": 117,
     "metadata": {},
     "output_type": "execute_result"
    }
   ],
   "source": [
    "final_labels"
   ]
  },
  {
   "cell_type": "code",
   "execution_count": 119,
   "id": "f0a420b3",
   "metadata": {},
   "outputs": [
    {
     "data": {
      "text/plain": [
       "array([ True, False,  True, ...,  True,  True,  True])"
      ]
     },
     "execution_count": 119,
     "metadata": {},
     "output_type": "execute_result"
    }
   ],
   "source": [
    "final_labels.reshape(len(final_labels))"
   ]
  },
  {
   "cell_type": "code",
   "execution_count": 120,
   "id": "8dd41b9f",
   "metadata": {},
   "outputs": [],
   "source": [
    "sample=pd.read_csv(\"/Users/kumara/Desktop/machine learning /kaggle/spaceship titanic/spaceship-titanic/sample_submission.csv\")\n",
    "sub=pd.DataFrame({'PassengerId':sample['PassengerId'].values.tolist(),'Transported':final_labels})\n",
    "sub.to_csv('submission.csv',index=False)\n"
   ]
  },
  {
   "cell_type": "code",
   "execution_count": null,
   "id": "c0dfa870",
   "metadata": {},
   "outputs": [],
   "source": []
  }
 ],
 "metadata": {
  "kernelspec": {
   "display_name": "Python 3 (ipykernel)",
   "language": "python",
   "name": "python3"
  },
  "language_info": {
   "codemirror_mode": {
    "name": "ipython",
    "version": 3
   },
   "file_extension": ".py",
   "mimetype": "text/x-python",
   "name": "python",
   "nbconvert_exporter": "python",
   "pygments_lexer": "ipython3",
   "version": "3.7.13"
  }
 },
 "nbformat": 4,
 "nbformat_minor": 5
}
